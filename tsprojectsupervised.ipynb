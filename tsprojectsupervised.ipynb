{
 "cells": [
  {
   "cell_type": "code",
   "execution_count": 1,
   "metadata": {},
   "outputs": [],
   "source": [
    "import pandas as pd\n",
    "import numpy as np\n",
    "import matplotlib.pyplot as plt\n",
    "\n",
    "%matplotlib inline\n",
    "\n",
    "import seaborn as sns"
   ]
  },
  {
   "cell_type": "code",
   "execution_count": 2,
   "metadata": {},
   "outputs": [],
   "source": [
    "df=pd.read_csv('pokemon.csv')"
   ]
  },
  {
   "cell_type": "code",
   "execution_count": 3,
   "metadata": {},
   "outputs": [
    {
     "data": {
      "text/html": [
       "<div>\n",
       "<style scoped>\n",
       "    .dataframe tbody tr th:only-of-type {\n",
       "        vertical-align: middle;\n",
       "    }\n",
       "\n",
       "    .dataframe tbody tr th {\n",
       "        vertical-align: top;\n",
       "    }\n",
       "\n",
       "    .dataframe thead th {\n",
       "        text-align: right;\n",
       "    }\n",
       "</style>\n",
       "<table border=\"1\" class=\"dataframe\">\n",
       "  <thead>\n",
       "    <tr style=\"text-align: right;\">\n",
       "      <th></th>\n",
       "      <th>id</th>\n",
       "      <th>user_id</th>\n",
       "      <th>QoA_VLCresolution</th>\n",
       "      <th>QoA_VLCbitrate</th>\n",
       "      <th>QoA_VLCframerate</th>\n",
       "      <th>QoA_VLCdropped</th>\n",
       "      <th>QoA_VLCaudiorate</th>\n",
       "      <th>QoA_VLCaudioloss</th>\n",
       "      <th>QoA_BUFFERINGcount</th>\n",
       "      <th>QoA_BUFFERINGtime</th>\n",
       "      <th>...</th>\n",
       "      <th>QoD_os-version</th>\n",
       "      <th>QoD_api-level</th>\n",
       "      <th>QoU_sex</th>\n",
       "      <th>QoU_age</th>\n",
       "      <th>QoU_Ustedy</th>\n",
       "      <th>QoF_begin</th>\n",
       "      <th>QoF_shift</th>\n",
       "      <th>QoF_audio</th>\n",
       "      <th>QoF_video</th>\n",
       "      <th>MOS</th>\n",
       "    </tr>\n",
       "  </thead>\n",
       "  <tbody>\n",
       "    <tr>\n",
       "      <th>0</th>\n",
       "      <td>590</td>\n",
       "      <td>71</td>\n",
       "      <td>360</td>\n",
       "      <td>528.392940</td>\n",
       "      <td>24.950000</td>\n",
       "      <td>0</td>\n",
       "      <td>43.800000</td>\n",
       "      <td>0</td>\n",
       "      <td>2</td>\n",
       "      <td>683</td>\n",
       "      <td>...</td>\n",
       "      <td>4.1.1(122573.16)</td>\n",
       "      <td>16</td>\n",
       "      <td>1</td>\n",
       "      <td>20</td>\n",
       "      <td>5</td>\n",
       "      <td>3</td>\n",
       "      <td>5</td>\n",
       "      <td>3</td>\n",
       "      <td>4</td>\n",
       "      <td>3</td>\n",
       "    </tr>\n",
       "    <tr>\n",
       "      <th>1</th>\n",
       "      <td>428</td>\n",
       "      <td>46</td>\n",
       "      <td>360</td>\n",
       "      <td>402.646640</td>\n",
       "      <td>30.066667</td>\n",
       "      <td>0</td>\n",
       "      <td>44.200000</td>\n",
       "      <td>0</td>\n",
       "      <td>2</td>\n",
       "      <td>690</td>\n",
       "      <td>...</td>\n",
       "      <td>4.4.2(I9195XXUCNK1)</td>\n",
       "      <td>19</td>\n",
       "      <td>1</td>\n",
       "      <td>25</td>\n",
       "      <td>5</td>\n",
       "      <td>4</td>\n",
       "      <td>5</td>\n",
       "      <td>5</td>\n",
       "      <td>5</td>\n",
       "      <td>5</td>\n",
       "    </tr>\n",
       "    <tr>\n",
       "      <th>2</th>\n",
       "      <td>406</td>\n",
       "      <td>44</td>\n",
       "      <td>360</td>\n",
       "      <td>735.840700</td>\n",
       "      <td>24.200000</td>\n",
       "      <td>0</td>\n",
       "      <td>44.183333</td>\n",
       "      <td>0</td>\n",
       "      <td>2</td>\n",
       "      <td>840</td>\n",
       "      <td>...</td>\n",
       "      <td>4.1.2(I9300XXELL4)</td>\n",
       "      <td>16</td>\n",
       "      <td>1</td>\n",
       "      <td>22</td>\n",
       "      <td>5</td>\n",
       "      <td>3</td>\n",
       "      <td>5</td>\n",
       "      <td>4</td>\n",
       "      <td>4</td>\n",
       "      <td>4</td>\n",
       "    </tr>\n",
       "    <tr>\n",
       "      <th>3</th>\n",
       "      <td>1256</td>\n",
       "      <td>133</td>\n",
       "      <td>240</td>\n",
       "      <td>529.488300</td>\n",
       "      <td>24.116667</td>\n",
       "      <td>9</td>\n",
       "      <td>43.850000</td>\n",
       "      <td>0</td>\n",
       "      <td>2</td>\n",
       "      <td>868</td>\n",
       "      <td>...</td>\n",
       "      <td>4.4.4(suv3Rw)</td>\n",
       "      <td>19</td>\n",
       "      <td>1</td>\n",
       "      <td>31</td>\n",
       "      <td>5</td>\n",
       "      <td>4</td>\n",
       "      <td>5</td>\n",
       "      <td>5</td>\n",
       "      <td>5</td>\n",
       "      <td>5</td>\n",
       "    </tr>\n",
       "    <tr>\n",
       "      <th>4</th>\n",
       "      <td>244</td>\n",
       "      <td>22</td>\n",
       "      <td>360</td>\n",
       "      <td>736.000850</td>\n",
       "      <td>24.066667</td>\n",
       "      <td>0</td>\n",
       "      <td>43.850000</td>\n",
       "      <td>0</td>\n",
       "      <td>2</td>\n",
       "      <td>869</td>\n",
       "      <td>...</td>\n",
       "      <td>4.1.2(I9300XXELL4)</td>\n",
       "      <td>16</td>\n",
       "      <td>0</td>\n",
       "      <td>26</td>\n",
       "      <td>5</td>\n",
       "      <td>5</td>\n",
       "      <td>5</td>\n",
       "      <td>4</td>\n",
       "      <td>5</td>\n",
       "      <td>5</td>\n",
       "    </tr>\n",
       "    <tr>\n",
       "      <th>...</th>\n",
       "      <td>...</td>\n",
       "      <td>...</td>\n",
       "      <td>...</td>\n",
       "      <td>...</td>\n",
       "      <td>...</td>\n",
       "      <td>...</td>\n",
       "      <td>...</td>\n",
       "      <td>...</td>\n",
       "      <td>...</td>\n",
       "      <td>...</td>\n",
       "      <td>...</td>\n",
       "      <td>...</td>\n",
       "      <td>...</td>\n",
       "      <td>...</td>\n",
       "      <td>...</td>\n",
       "      <td>...</td>\n",
       "      <td>...</td>\n",
       "      <td>...</td>\n",
       "      <td>...</td>\n",
       "      <td>...</td>\n",
       "      <td>...</td>\n",
       "    </tr>\n",
       "    <tr>\n",
       "      <th>1538</th>\n",
       "      <td>881</td>\n",
       "      <td>113</td>\n",
       "      <td>360</td>\n",
       "      <td>37.281925</td>\n",
       "      <td>2.300000</td>\n",
       "      <td>1</td>\n",
       "      <td>4.216667</td>\n",
       "      <td>1</td>\n",
       "      <td>2</td>\n",
       "      <td>120628</td>\n",
       "      <td>...</td>\n",
       "      <td>4.4.4(suv3Rw)</td>\n",
       "      <td>19</td>\n",
       "      <td>1</td>\n",
       "      <td>26</td>\n",
       "      <td>5</td>\n",
       "      <td>1</td>\n",
       "      <td>1</td>\n",
       "      <td>1</td>\n",
       "      <td>3</td>\n",
       "      <td>1</td>\n",
       "    </tr>\n",
       "    <tr>\n",
       "      <th>1539</th>\n",
       "      <td>908</td>\n",
       "      <td>117</td>\n",
       "      <td>360</td>\n",
       "      <td>43.191174</td>\n",
       "      <td>12.950000</td>\n",
       "      <td>24</td>\n",
       "      <td>19.016667</td>\n",
       "      <td>3</td>\n",
       "      <td>3</td>\n",
       "      <td>123318</td>\n",
       "      <td>...</td>\n",
       "      <td>4.4.4(suv3Rw)</td>\n",
       "      <td>19</td>\n",
       "      <td>0</td>\n",
       "      <td>29</td>\n",
       "      <td>5</td>\n",
       "      <td>1</td>\n",
       "      <td>1</td>\n",
       "      <td>2</td>\n",
       "      <td>1</td>\n",
       "      <td>1</td>\n",
       "    </tr>\n",
       "    <tr>\n",
       "      <th>1540</th>\n",
       "      <td>1774</td>\n",
       "      <td>168</td>\n",
       "      <td>360</td>\n",
       "      <td>58.460570</td>\n",
       "      <td>4.250000</td>\n",
       "      <td>4</td>\n",
       "      <td>8.416667</td>\n",
       "      <td>1</td>\n",
       "      <td>4</td>\n",
       "      <td>123430</td>\n",
       "      <td>...</td>\n",
       "      <td>5.0(G900FXXU1BOC2)</td>\n",
       "      <td>21</td>\n",
       "      <td>1</td>\n",
       "      <td>27</td>\n",
       "      <td>5</td>\n",
       "      <td>1</td>\n",
       "      <td>1</td>\n",
       "      <td>1</td>\n",
       "      <td>1</td>\n",
       "      <td>1</td>\n",
       "    </tr>\n",
       "    <tr>\n",
       "      <th>1541</th>\n",
       "      <td>67</td>\n",
       "      <td>3</td>\n",
       "      <td>360</td>\n",
       "      <td>47.591620</td>\n",
       "      <td>0.133333</td>\n",
       "      <td>1</td>\n",
       "      <td>19.600000</td>\n",
       "      <td>2</td>\n",
       "      <td>3</td>\n",
       "      <td>139610</td>\n",
       "      <td>...</td>\n",
       "      <td>4.1.1(122573.16)</td>\n",
       "      <td>16</td>\n",
       "      <td>1</td>\n",
       "      <td>27</td>\n",
       "      <td>5</td>\n",
       "      <td>1</td>\n",
       "      <td>1</td>\n",
       "      <td>1</td>\n",
       "      <td>1</td>\n",
       "      <td>1</td>\n",
       "    </tr>\n",
       "    <tr>\n",
       "      <th>1542</th>\n",
       "      <td>1147</td>\n",
       "      <td>128</td>\n",
       "      <td>360</td>\n",
       "      <td>43.528040</td>\n",
       "      <td>6.633333</td>\n",
       "      <td>12</td>\n",
       "      <td>12.133333</td>\n",
       "      <td>0</td>\n",
       "      <td>4</td>\n",
       "      <td>329271</td>\n",
       "      <td>...</td>\n",
       "      <td>4.4.4(suv3Rw)</td>\n",
       "      <td>19</td>\n",
       "      <td>1</td>\n",
       "      <td>27</td>\n",
       "      <td>5</td>\n",
       "      <td>1</td>\n",
       "      <td>1</td>\n",
       "      <td>1</td>\n",
       "      <td>1</td>\n",
       "      <td>1</td>\n",
       "    </tr>\n",
       "  </tbody>\n",
       "</table>\n",
       "<p>1543 rows × 23 columns</p>\n",
       "</div>"
      ],
      "text/plain": [
       "        id  user_id  QoA_VLCresolution  QoA_VLCbitrate  QoA_VLCframerate  \\\n",
       "0      590       71                360      528.392940         24.950000   \n",
       "1      428       46                360      402.646640         30.066667   \n",
       "2      406       44                360      735.840700         24.200000   \n",
       "3     1256      133                240      529.488300         24.116667   \n",
       "4      244       22                360      736.000850         24.066667   \n",
       "...    ...      ...                ...             ...               ...   \n",
       "1538   881      113                360       37.281925          2.300000   \n",
       "1539   908      117                360       43.191174         12.950000   \n",
       "1540  1774      168                360       58.460570          4.250000   \n",
       "1541    67        3                360       47.591620          0.133333   \n",
       "1542  1147      128                360       43.528040          6.633333   \n",
       "\n",
       "      QoA_VLCdropped  QoA_VLCaudiorate  QoA_VLCaudioloss  QoA_BUFFERINGcount  \\\n",
       "0                  0         43.800000                 0                   2   \n",
       "1                  0         44.200000                 0                   2   \n",
       "2                  0         44.183333                 0                   2   \n",
       "3                  9         43.850000                 0                   2   \n",
       "4                  0         43.850000                 0                   2   \n",
       "...              ...               ...               ...                 ...   \n",
       "1538               1          4.216667                 1                   2   \n",
       "1539              24         19.016667                 3                   3   \n",
       "1540               4          8.416667                 1                   4   \n",
       "1541               1         19.600000                 2                   3   \n",
       "1542              12         12.133333                 0                   4   \n",
       "\n",
       "      QoA_BUFFERINGtime  ...       QoD_os-version  QoD_api-level QoU_sex  \\\n",
       "0                   683  ...     4.1.1(122573.16)             16       1   \n",
       "1                   690  ...  4.4.2(I9195XXUCNK1)             19       1   \n",
       "2                   840  ...   4.1.2(I9300XXELL4)             16       1   \n",
       "3                   868  ...        4.4.4(suv3Rw)             19       1   \n",
       "4                   869  ...   4.1.2(I9300XXELL4)             16       0   \n",
       "...                 ...  ...                  ...            ...     ...   \n",
       "1538             120628  ...        4.4.4(suv3Rw)             19       1   \n",
       "1539             123318  ...        4.4.4(suv3Rw)             19       0   \n",
       "1540             123430  ...   5.0(G900FXXU1BOC2)             21       1   \n",
       "1541             139610  ...     4.1.1(122573.16)             16       1   \n",
       "1542             329271  ...        4.4.4(suv3Rw)             19       1   \n",
       "\n",
       "     QoU_age  QoU_Ustedy  QoF_begin  QoF_shift  QoF_audio  QoF_video  MOS  \n",
       "0         20           5          3          5          3          4    3  \n",
       "1         25           5          4          5          5          5    5  \n",
       "2         22           5          3          5          4          4    4  \n",
       "3         31           5          4          5          5          5    5  \n",
       "4         26           5          5          5          4          5    5  \n",
       "...      ...         ...        ...        ...        ...        ...  ...  \n",
       "1538      26           5          1          1          1          3    1  \n",
       "1539      29           5          1          1          2          1    1  \n",
       "1540      27           5          1          1          1          1    1  \n",
       "1541      27           5          1          1          1          1    1  \n",
       "1542      27           5          1          1          1          1    1  \n",
       "\n",
       "[1543 rows x 23 columns]"
      ]
     },
     "execution_count": 3,
     "metadata": {},
     "output_type": "execute_result"
    }
   ],
   "source": [
    "df"
   ]
  },
  {
   "cell_type": "markdown",
   "metadata": {},
   "source": [
    "The dataset is about : Quality of experience Influence Factors to assess YouTube end user’s QoE in mobile environments"
   ]
  },
  {
   "cell_type": "markdown",
   "metadata": {},
   "source": [
    "It has been used in order to predict the subjective Mean Opinion Scores(MOS) given by usersnthat a tester will give at the end of each video view."
   ]
  },
  {
   "cell_type": "markdown",
   "metadata": {},
   "source": [
    "The goal we are pursuing with our analysis is to assess YouTube end user’s QoE in mobile environments and trying to predict the MOS based on many other factors."
   ]
  },
  {
   "cell_type": "markdown",
   "metadata": {},
   "source": [
    "Data exploration :"
   ]
  },
  {
   "cell_type": "code",
   "execution_count": 4,
   "metadata": {},
   "outputs": [
    {
     "name": "stdout",
     "output_type": "stream",
     "text": [
      "<class 'pandas.core.frame.DataFrame'>\n",
      "RangeIndex: 1543 entries, 0 to 1542\n",
      "Data columns (total 23 columns):\n",
      " #   Column              Non-Null Count  Dtype  \n",
      "---  ------              --------------  -----  \n",
      " 0   id                  1543 non-null   int64  \n",
      " 1   user_id             1543 non-null   int64  \n",
      " 2   QoA_VLCresolution   1543 non-null   int64  \n",
      " 3   QoA_VLCbitrate      1543 non-null   float64\n",
      " 4   QoA_VLCframerate    1543 non-null   float64\n",
      " 5   QoA_VLCdropped      1543 non-null   int64  \n",
      " 6   QoA_VLCaudiorate    1543 non-null   float64\n",
      " 7   QoA_VLCaudioloss    1543 non-null   int64  \n",
      " 8   QoA_BUFFERINGcount  1543 non-null   int64  \n",
      " 9   QoA_BUFFERINGtime   1543 non-null   int64  \n",
      " 10  QoS_type            1543 non-null   int64  \n",
      " 11  QoS_operator        1543 non-null   int64  \n",
      " 12  QoD_model           1543 non-null   object \n",
      " 13  QoD_os-version      1543 non-null   object \n",
      " 14  QoD_api-level       1543 non-null   int64  \n",
      " 15  QoU_sex             1543 non-null   int64  \n",
      " 16  QoU_age             1543 non-null   int64  \n",
      " 17  QoU_Ustedy          1543 non-null   int64  \n",
      " 18  QoF_begin           1543 non-null   int64  \n",
      " 19  QoF_shift           1543 non-null   int64  \n",
      " 20  QoF_audio           1543 non-null   int64  \n",
      " 21  QoF_video           1543 non-null   int64  \n",
      " 22  MOS                 1543 non-null   int64  \n",
      "dtypes: float64(3), int64(18), object(2)\n",
      "memory usage: 277.4+ KB\n"
     ]
    }
   ],
   "source": [
    "df.info(verbose=True)"
   ]
  },
  {
   "cell_type": "code",
   "execution_count": 5,
   "metadata": {},
   "outputs": [
    {
     "data": {
      "text/plain": [
       "id                      int64\n",
       "user_id                 int64\n",
       "QoA_VLCresolution       int64\n",
       "QoA_VLCbitrate        float64\n",
       "QoA_VLCframerate      float64\n",
       "QoA_VLCdropped          int64\n",
       "QoA_VLCaudiorate      float64\n",
       "QoA_VLCaudioloss        int64\n",
       "QoA_BUFFERINGcount      int64\n",
       "QoA_BUFFERINGtime       int64\n",
       "QoS_type                int64\n",
       "QoS_operator            int64\n",
       "QoD_model              object\n",
       "QoD_os-version         object\n",
       "QoD_api-level           int64\n",
       "QoU_sex                 int64\n",
       "QoU_age                 int64\n",
       "QoU_Ustedy              int64\n",
       "QoF_begin               int64\n",
       "QoF_shift               int64\n",
       "QoF_audio               int64\n",
       "QoF_video               int64\n",
       "MOS                     int64\n",
       "dtype: object"
      ]
     },
     "execution_count": 5,
     "metadata": {},
     "output_type": "execute_result"
    }
   ],
   "source": [
    "df.dtypes"
   ]
  },
  {
   "cell_type": "markdown",
   "metadata": {},
   "source": [
    "We can see that we have to columns with categorical data : 'QoD_os-version' and 'QoD_model'"
   ]
  },
  {
   "cell_type": "markdown",
   "metadata": {},
   "source": [
    "We check for null values :"
   ]
  },
  {
   "cell_type": "code",
   "execution_count": 6,
   "metadata": {},
   "outputs": [
    {
     "data": {
      "text/plain": [
       "0"
      ]
     },
     "execution_count": 6,
     "metadata": {},
     "output_type": "execute_result"
    }
   ],
   "source": [
    "df.isnull().sum().sum()"
   ]
  },
  {
   "cell_type": "markdown",
   "metadata": {},
   "source": [
    "We can see that there are no null values in our dataset"
   ]
  },
  {
   "cell_type": "code",
   "execution_count": 7,
   "metadata": {},
   "outputs": [
    {
     "data": {
      "text/html": [
       "<div>\n",
       "<style scoped>\n",
       "    .dataframe tbody tr th:only-of-type {\n",
       "        vertical-align: middle;\n",
       "    }\n",
       "\n",
       "    .dataframe tbody tr th {\n",
       "        vertical-align: top;\n",
       "    }\n",
       "\n",
       "    .dataframe thead th {\n",
       "        text-align: right;\n",
       "    }\n",
       "</style>\n",
       "<table border=\"1\" class=\"dataframe\">\n",
       "  <thead>\n",
       "    <tr style=\"text-align: right;\">\n",
       "      <th></th>\n",
       "      <th>count</th>\n",
       "      <th>mean</th>\n",
       "      <th>std</th>\n",
       "      <th>min</th>\n",
       "      <th>25%</th>\n",
       "      <th>50%</th>\n",
       "      <th>75%</th>\n",
       "      <th>max</th>\n",
       "    </tr>\n",
       "  </thead>\n",
       "  <tbody>\n",
       "    <tr>\n",
       "      <th>id</th>\n",
       "      <td>1543.0</td>\n",
       "      <td>924.261180</td>\n",
       "      <td>525.492253</td>\n",
       "      <td>52.000000</td>\n",
       "      <td>472.500000</td>\n",
       "      <td>897.000000</td>\n",
       "      <td>1298.500000</td>\n",
       "      <td>2077.000000</td>\n",
       "    </tr>\n",
       "    <tr>\n",
       "      <th>user_id</th>\n",
       "      <td>1543.0</td>\n",
       "      <td>98.128321</td>\n",
       "      <td>50.668531</td>\n",
       "      <td>1.000000</td>\n",
       "      <td>53.000000</td>\n",
       "      <td>117.000000</td>\n",
       "      <td>135.000000</td>\n",
       "      <td>181.000000</td>\n",
       "    </tr>\n",
       "    <tr>\n",
       "      <th>QoA_VLCresolution</th>\n",
       "      <td>1543.0</td>\n",
       "      <td>354.566429</td>\n",
       "      <td>25.939930</td>\n",
       "      <td>16.000000</td>\n",
       "      <td>360.000000</td>\n",
       "      <td>360.000000</td>\n",
       "      <td>360.000000</td>\n",
       "      <td>360.000000</td>\n",
       "    </tr>\n",
       "    <tr>\n",
       "      <th>QoA_VLCbitrate</th>\n",
       "      <td>1543.0</td>\n",
       "      <td>520.522257</td>\n",
       "      <td>350.957926</td>\n",
       "      <td>0.003294</td>\n",
       "      <td>307.668850</td>\n",
       "      <td>474.000920</td>\n",
       "      <td>661.491925</td>\n",
       "      <td>3918.293500</td>\n",
       "    </tr>\n",
       "    <tr>\n",
       "      <th>QoA_VLCframerate</th>\n",
       "      <td>1543.0</td>\n",
       "      <td>25.001576</td>\n",
       "      <td>6.690082</td>\n",
       "      <td>0.000000</td>\n",
       "      <td>24.733333</td>\n",
       "      <td>25.316667</td>\n",
       "      <td>29.800000</td>\n",
       "      <td>31.316667</td>\n",
       "    </tr>\n",
       "    <tr>\n",
       "      <th>QoA_VLCdropped</th>\n",
       "      <td>1543.0</td>\n",
       "      <td>1.217758</td>\n",
       "      <td>5.618366</td>\n",
       "      <td>0.000000</td>\n",
       "      <td>0.000000</td>\n",
       "      <td>0.000000</td>\n",
       "      <td>1.000000</td>\n",
       "      <td>107.000000</td>\n",
       "    </tr>\n",
       "    <tr>\n",
       "      <th>QoA_VLCaudiorate</th>\n",
       "      <td>1543.0</td>\n",
       "      <td>40.379790</td>\n",
       "      <td>9.123582</td>\n",
       "      <td>0.000000</td>\n",
       "      <td>43.783333</td>\n",
       "      <td>44.150000</td>\n",
       "      <td>44.466667</td>\n",
       "      <td>46.000000</td>\n",
       "    </tr>\n",
       "    <tr>\n",
       "      <th>QoA_VLCaudioloss</th>\n",
       "      <td>1543.0</td>\n",
       "      <td>0.235256</td>\n",
       "      <td>1.133616</td>\n",
       "      <td>0.000000</td>\n",
       "      <td>0.000000</td>\n",
       "      <td>0.000000</td>\n",
       "      <td>0.000000</td>\n",
       "      <td>14.000000</td>\n",
       "    </tr>\n",
       "    <tr>\n",
       "      <th>QoA_BUFFERINGcount</th>\n",
       "      <td>1543.0</td>\n",
       "      <td>1.392093</td>\n",
       "      <td>0.895943</td>\n",
       "      <td>1.000000</td>\n",
       "      <td>1.000000</td>\n",
       "      <td>1.000000</td>\n",
       "      <td>2.000000</td>\n",
       "      <td>10.000000</td>\n",
       "    </tr>\n",
       "    <tr>\n",
       "      <th>QoA_BUFFERINGtime</th>\n",
       "      <td>1543.0</td>\n",
       "      <td>6164.184705</td>\n",
       "      <td>15032.225559</td>\n",
       "      <td>683.000000</td>\n",
       "      <td>2010.500000</td>\n",
       "      <td>2719.000000</td>\n",
       "      <td>4067.000000</td>\n",
       "      <td>329271.000000</td>\n",
       "    </tr>\n",
       "    <tr>\n",
       "      <th>QoS_type</th>\n",
       "      <td>1543.0</td>\n",
       "      <td>3.690214</td>\n",
       "      <td>1.204165</td>\n",
       "      <td>1.000000</td>\n",
       "      <td>2.000000</td>\n",
       "      <td>4.000000</td>\n",
       "      <td>5.000000</td>\n",
       "      <td>5.000000</td>\n",
       "    </tr>\n",
       "    <tr>\n",
       "      <th>QoS_operator</th>\n",
       "      <td>1543.0</td>\n",
       "      <td>3.051199</td>\n",
       "      <td>0.975363</td>\n",
       "      <td>1.000000</td>\n",
       "      <td>3.000000</td>\n",
       "      <td>3.000000</td>\n",
       "      <td>4.000000</td>\n",
       "      <td>4.000000</td>\n",
       "    </tr>\n",
       "    <tr>\n",
       "      <th>QoD_api-level</th>\n",
       "      <td>1543.0</td>\n",
       "      <td>18.560596</td>\n",
       "      <td>1.642513</td>\n",
       "      <td>15.000000</td>\n",
       "      <td>19.000000</td>\n",
       "      <td>19.000000</td>\n",
       "      <td>19.000000</td>\n",
       "      <td>22.000000</td>\n",
       "    </tr>\n",
       "    <tr>\n",
       "      <th>QoU_sex</th>\n",
       "      <td>1543.0</td>\n",
       "      <td>0.855476</td>\n",
       "      <td>0.351734</td>\n",
       "      <td>0.000000</td>\n",
       "      <td>1.000000</td>\n",
       "      <td>1.000000</td>\n",
       "      <td>1.000000</td>\n",
       "      <td>1.000000</td>\n",
       "    </tr>\n",
       "    <tr>\n",
       "      <th>QoU_age</th>\n",
       "      <td>1543.0</td>\n",
       "      <td>29.179520</td>\n",
       "      <td>8.006615</td>\n",
       "      <td>14.000000</td>\n",
       "      <td>25.000000</td>\n",
       "      <td>27.000000</td>\n",
       "      <td>30.000000</td>\n",
       "      <td>55.000000</td>\n",
       "    </tr>\n",
       "    <tr>\n",
       "      <th>QoU_Ustedy</th>\n",
       "      <td>1543.0</td>\n",
       "      <td>4.882048</td>\n",
       "      <td>0.471312</td>\n",
       "      <td>2.000000</td>\n",
       "      <td>5.000000</td>\n",
       "      <td>5.000000</td>\n",
       "      <td>5.000000</td>\n",
       "      <td>5.000000</td>\n",
       "    </tr>\n",
       "    <tr>\n",
       "      <th>QoF_begin</th>\n",
       "      <td>1543.0</td>\n",
       "      <td>3.533377</td>\n",
       "      <td>1.025622</td>\n",
       "      <td>1.000000</td>\n",
       "      <td>3.000000</td>\n",
       "      <td>4.000000</td>\n",
       "      <td>4.000000</td>\n",
       "      <td>5.000000</td>\n",
       "    </tr>\n",
       "    <tr>\n",
       "      <th>QoF_shift</th>\n",
       "      <td>1543.0</td>\n",
       "      <td>4.523655</td>\n",
       "      <td>0.953146</td>\n",
       "      <td>1.000000</td>\n",
       "      <td>4.000000</td>\n",
       "      <td>5.000000</td>\n",
       "      <td>5.000000</td>\n",
       "      <td>5.000000</td>\n",
       "    </tr>\n",
       "    <tr>\n",
       "      <th>QoF_audio</th>\n",
       "      <td>1543.0</td>\n",
       "      <td>3.738820</td>\n",
       "      <td>1.006382</td>\n",
       "      <td>1.000000</td>\n",
       "      <td>3.000000</td>\n",
       "      <td>4.000000</td>\n",
       "      <td>4.000000</td>\n",
       "      <td>5.000000</td>\n",
       "    </tr>\n",
       "    <tr>\n",
       "      <th>QoF_video</th>\n",
       "      <td>1543.0</td>\n",
       "      <td>3.884640</td>\n",
       "      <td>0.887098</td>\n",
       "      <td>1.000000</td>\n",
       "      <td>4.000000</td>\n",
       "      <td>4.000000</td>\n",
       "      <td>4.000000</td>\n",
       "      <td>5.000000</td>\n",
       "    </tr>\n",
       "    <tr>\n",
       "      <th>MOS</th>\n",
       "      <td>1543.0</td>\n",
       "      <td>3.702528</td>\n",
       "      <td>1.056283</td>\n",
       "      <td>1.000000</td>\n",
       "      <td>3.000000</td>\n",
       "      <td>4.000000</td>\n",
       "      <td>4.000000</td>\n",
       "      <td>5.000000</td>\n",
       "    </tr>\n",
       "  </tbody>\n",
       "</table>\n",
       "</div>"
      ],
      "text/plain": [
       "                     count         mean           std         min  \\\n",
       "id                  1543.0   924.261180    525.492253   52.000000   \n",
       "user_id             1543.0    98.128321     50.668531    1.000000   \n",
       "QoA_VLCresolution   1543.0   354.566429     25.939930   16.000000   \n",
       "QoA_VLCbitrate      1543.0   520.522257    350.957926    0.003294   \n",
       "QoA_VLCframerate    1543.0    25.001576      6.690082    0.000000   \n",
       "QoA_VLCdropped      1543.0     1.217758      5.618366    0.000000   \n",
       "QoA_VLCaudiorate    1543.0    40.379790      9.123582    0.000000   \n",
       "QoA_VLCaudioloss    1543.0     0.235256      1.133616    0.000000   \n",
       "QoA_BUFFERINGcount  1543.0     1.392093      0.895943    1.000000   \n",
       "QoA_BUFFERINGtime   1543.0  6164.184705  15032.225559  683.000000   \n",
       "QoS_type            1543.0     3.690214      1.204165    1.000000   \n",
       "QoS_operator        1543.0     3.051199      0.975363    1.000000   \n",
       "QoD_api-level       1543.0    18.560596      1.642513   15.000000   \n",
       "QoU_sex             1543.0     0.855476      0.351734    0.000000   \n",
       "QoU_age             1543.0    29.179520      8.006615   14.000000   \n",
       "QoU_Ustedy          1543.0     4.882048      0.471312    2.000000   \n",
       "QoF_begin           1543.0     3.533377      1.025622    1.000000   \n",
       "QoF_shift           1543.0     4.523655      0.953146    1.000000   \n",
       "QoF_audio           1543.0     3.738820      1.006382    1.000000   \n",
       "QoF_video           1543.0     3.884640      0.887098    1.000000   \n",
       "MOS                 1543.0     3.702528      1.056283    1.000000   \n",
       "\n",
       "                            25%          50%          75%            max  \n",
       "id                   472.500000   897.000000  1298.500000    2077.000000  \n",
       "user_id               53.000000   117.000000   135.000000     181.000000  \n",
       "QoA_VLCresolution    360.000000   360.000000   360.000000     360.000000  \n",
       "QoA_VLCbitrate       307.668850   474.000920   661.491925    3918.293500  \n",
       "QoA_VLCframerate      24.733333    25.316667    29.800000      31.316667  \n",
       "QoA_VLCdropped         0.000000     0.000000     1.000000     107.000000  \n",
       "QoA_VLCaudiorate      43.783333    44.150000    44.466667      46.000000  \n",
       "QoA_VLCaudioloss       0.000000     0.000000     0.000000      14.000000  \n",
       "QoA_BUFFERINGcount     1.000000     1.000000     2.000000      10.000000  \n",
       "QoA_BUFFERINGtime   2010.500000  2719.000000  4067.000000  329271.000000  \n",
       "QoS_type               2.000000     4.000000     5.000000       5.000000  \n",
       "QoS_operator           3.000000     3.000000     4.000000       4.000000  \n",
       "QoD_api-level         19.000000    19.000000    19.000000      22.000000  \n",
       "QoU_sex                1.000000     1.000000     1.000000       1.000000  \n",
       "QoU_age               25.000000    27.000000    30.000000      55.000000  \n",
       "QoU_Ustedy             5.000000     5.000000     5.000000       5.000000  \n",
       "QoF_begin              3.000000     4.000000     4.000000       5.000000  \n",
       "QoF_shift              4.000000     5.000000     5.000000       5.000000  \n",
       "QoF_audio              3.000000     4.000000     4.000000       5.000000  \n",
       "QoF_video              4.000000     4.000000     4.000000       5.000000  \n",
       "MOS                    3.000000     4.000000     4.000000       5.000000  "
      ]
     },
     "execution_count": 7,
     "metadata": {},
     "output_type": "execute_result"
    }
   ],
   "source": [
    "df.describe().transpose()"
   ]
  },
  {
   "cell_type": "code",
   "execution_count": 8,
   "metadata": {},
   "outputs": [
    {
     "data": {
      "text/html": [
       "<div>\n",
       "<style scoped>\n",
       "    .dataframe tbody tr th:only-of-type {\n",
       "        vertical-align: middle;\n",
       "    }\n",
       "\n",
       "    .dataframe tbody tr th {\n",
       "        vertical-align: top;\n",
       "    }\n",
       "\n",
       "    .dataframe thead th {\n",
       "        text-align: right;\n",
       "    }\n",
       "</style>\n",
       "<table border=\"1\" class=\"dataframe\">\n",
       "  <thead>\n",
       "    <tr style=\"text-align: right;\">\n",
       "      <th></th>\n",
       "      <th>id</th>\n",
       "      <th>user_id</th>\n",
       "      <th>QoA_VLCresolution</th>\n",
       "      <th>QoA_VLCbitrate</th>\n",
       "      <th>QoA_VLCframerate</th>\n",
       "      <th>QoA_VLCdropped</th>\n",
       "      <th>QoA_VLCaudiorate</th>\n",
       "      <th>QoA_VLCaudioloss</th>\n",
       "      <th>QoA_BUFFERINGcount</th>\n",
       "      <th>QoA_BUFFERINGtime</th>\n",
       "      <th>...</th>\n",
       "      <th>QoD_os-version</th>\n",
       "      <th>QoD_api-level</th>\n",
       "      <th>QoU_sex</th>\n",
       "      <th>QoU_age</th>\n",
       "      <th>QoU_Ustedy</th>\n",
       "      <th>QoF_begin</th>\n",
       "      <th>QoF_shift</th>\n",
       "      <th>QoF_audio</th>\n",
       "      <th>QoF_video</th>\n",
       "      <th>MOS</th>\n",
       "    </tr>\n",
       "  </thead>\n",
       "  <tbody>\n",
       "    <tr>\n",
       "      <th>0</th>\n",
       "      <td>590</td>\n",
       "      <td>71</td>\n",
       "      <td>360</td>\n",
       "      <td>528.39294</td>\n",
       "      <td>24.950000</td>\n",
       "      <td>0</td>\n",
       "      <td>43.800000</td>\n",
       "      <td>0</td>\n",
       "      <td>2</td>\n",
       "      <td>683</td>\n",
       "      <td>...</td>\n",
       "      <td>4.1.1(122573.16)</td>\n",
       "      <td>16</td>\n",
       "      <td>1</td>\n",
       "      <td>20</td>\n",
       "      <td>5</td>\n",
       "      <td>3</td>\n",
       "      <td>5</td>\n",
       "      <td>3</td>\n",
       "      <td>4</td>\n",
       "      <td>3</td>\n",
       "    </tr>\n",
       "    <tr>\n",
       "      <th>1</th>\n",
       "      <td>428</td>\n",
       "      <td>46</td>\n",
       "      <td>360</td>\n",
       "      <td>402.64664</td>\n",
       "      <td>30.066667</td>\n",
       "      <td>0</td>\n",
       "      <td>44.200000</td>\n",
       "      <td>0</td>\n",
       "      <td>2</td>\n",
       "      <td>690</td>\n",
       "      <td>...</td>\n",
       "      <td>4.4.2(I9195XXUCNK1)</td>\n",
       "      <td>19</td>\n",
       "      <td>1</td>\n",
       "      <td>25</td>\n",
       "      <td>5</td>\n",
       "      <td>4</td>\n",
       "      <td>5</td>\n",
       "      <td>5</td>\n",
       "      <td>5</td>\n",
       "      <td>5</td>\n",
       "    </tr>\n",
       "    <tr>\n",
       "      <th>2</th>\n",
       "      <td>406</td>\n",
       "      <td>44</td>\n",
       "      <td>360</td>\n",
       "      <td>735.84070</td>\n",
       "      <td>24.200000</td>\n",
       "      <td>0</td>\n",
       "      <td>44.183333</td>\n",
       "      <td>0</td>\n",
       "      <td>2</td>\n",
       "      <td>840</td>\n",
       "      <td>...</td>\n",
       "      <td>4.1.2(I9300XXELL4)</td>\n",
       "      <td>16</td>\n",
       "      <td>1</td>\n",
       "      <td>22</td>\n",
       "      <td>5</td>\n",
       "      <td>3</td>\n",
       "      <td>5</td>\n",
       "      <td>4</td>\n",
       "      <td>4</td>\n",
       "      <td>4</td>\n",
       "    </tr>\n",
       "    <tr>\n",
       "      <th>3</th>\n",
       "      <td>1256</td>\n",
       "      <td>133</td>\n",
       "      <td>240</td>\n",
       "      <td>529.48830</td>\n",
       "      <td>24.116667</td>\n",
       "      <td>9</td>\n",
       "      <td>43.850000</td>\n",
       "      <td>0</td>\n",
       "      <td>2</td>\n",
       "      <td>868</td>\n",
       "      <td>...</td>\n",
       "      <td>4.4.4(suv3Rw)</td>\n",
       "      <td>19</td>\n",
       "      <td>1</td>\n",
       "      <td>31</td>\n",
       "      <td>5</td>\n",
       "      <td>4</td>\n",
       "      <td>5</td>\n",
       "      <td>5</td>\n",
       "      <td>5</td>\n",
       "      <td>5</td>\n",
       "    </tr>\n",
       "    <tr>\n",
       "      <th>4</th>\n",
       "      <td>244</td>\n",
       "      <td>22</td>\n",
       "      <td>360</td>\n",
       "      <td>736.00085</td>\n",
       "      <td>24.066667</td>\n",
       "      <td>0</td>\n",
       "      <td>43.850000</td>\n",
       "      <td>0</td>\n",
       "      <td>2</td>\n",
       "      <td>869</td>\n",
       "      <td>...</td>\n",
       "      <td>4.1.2(I9300XXELL4)</td>\n",
       "      <td>16</td>\n",
       "      <td>0</td>\n",
       "      <td>26</td>\n",
       "      <td>5</td>\n",
       "      <td>5</td>\n",
       "      <td>5</td>\n",
       "      <td>4</td>\n",
       "      <td>5</td>\n",
       "      <td>5</td>\n",
       "    </tr>\n",
       "  </tbody>\n",
       "</table>\n",
       "<p>5 rows × 23 columns</p>\n",
       "</div>"
      ],
      "text/plain": [
       "     id  user_id  QoA_VLCresolution  QoA_VLCbitrate  QoA_VLCframerate  \\\n",
       "0   590       71                360       528.39294         24.950000   \n",
       "1   428       46                360       402.64664         30.066667   \n",
       "2   406       44                360       735.84070         24.200000   \n",
       "3  1256      133                240       529.48830         24.116667   \n",
       "4   244       22                360       736.00085         24.066667   \n",
       "\n",
       "   QoA_VLCdropped  QoA_VLCaudiorate  QoA_VLCaudioloss  QoA_BUFFERINGcount  \\\n",
       "0               0         43.800000                 0                   2   \n",
       "1               0         44.200000                 0                   2   \n",
       "2               0         44.183333                 0                   2   \n",
       "3               9         43.850000                 0                   2   \n",
       "4               0         43.850000                 0                   2   \n",
       "\n",
       "   QoA_BUFFERINGtime  ...       QoD_os-version  QoD_api-level QoU_sex QoU_age  \\\n",
       "0                683  ...     4.1.1(122573.16)             16       1      20   \n",
       "1                690  ...  4.4.2(I9195XXUCNK1)             19       1      25   \n",
       "2                840  ...   4.1.2(I9300XXELL4)             16       1      22   \n",
       "3                868  ...        4.4.4(suv3Rw)             19       1      31   \n",
       "4                869  ...   4.1.2(I9300XXELL4)             16       0      26   \n",
       "\n",
       "   QoU_Ustedy  QoF_begin  QoF_shift  QoF_audio  QoF_video  MOS  \n",
       "0           5          3          5          3          4    3  \n",
       "1           5          4          5          5          5    5  \n",
       "2           5          3          5          4          4    4  \n",
       "3           5          4          5          5          5    5  \n",
       "4           5          5          5          4          5    5  \n",
       "\n",
       "[5 rows x 23 columns]"
      ]
     },
     "execution_count": 8,
     "metadata": {},
     "output_type": "execute_result"
    }
   ],
   "source": [
    "df.head()"
   ]
  },
  {
   "cell_type": "markdown",
   "metadata": {},
   "source": [
    "We can drop id and user_id columns because they won't be relevant in our study and they do not add any information about MOS."
   ]
  },
  {
   "cell_type": "code",
   "execution_count": 9,
   "metadata": {},
   "outputs": [],
   "source": [
    "df=df.drop(['id','user_id'],axis=1)"
   ]
  },
  {
   "cell_type": "markdown",
   "metadata": {},
   "source": [
    "We have to deal now with categorical data, ie columns : 'QoD_model' and 'QoD_os-version'"
   ]
  },
  {
   "cell_type": "code",
   "execution_count": 10,
   "metadata": {},
   "outputs": [
    {
     "data": {
      "text/plain": [
       "18"
      ]
     },
     "execution_count": 10,
     "metadata": {},
     "output_type": "execute_result"
    }
   ],
   "source": [
    "df['QoD_os-version'].nunique()"
   ]
  },
  {
   "cell_type": "markdown",
   "metadata": {},
   "source": [
    "We can see that there are 18 different categories in 'QoD_os-version'"
   ]
  },
  {
   "cell_type": "code",
   "execution_count": 11,
   "metadata": {},
   "outputs": [
    {
     "data": {
      "text/plain": [
       "array(['4.1.1(122573.16)', '4.4.2(I9195XXUCNK1)', '4.1.2(I9300XXELL4)',\n",
       "       '4.4.4(suv3Rw)', '4.4.2(G900FXXU1ANG2)', '4.0.4(20130118.175432)',\n",
       "       '4.4.2(G900FXXU1ANJ1)', '4.4.2(I9195XXUCNK4)', '5.0.1(457188.4)',\n",
       "       '5.0.1(1602158)', '4.3(I9300XXUGNB5)', '5.0(G900FXXU1BOC7)',\n",
       "       '4.3(I9506XXUBML5)', '5.1.1(456c49d1b2)', '5.0(G900FXXU1BOC2)',\n",
       "       '4.4.2(N9005XXUGNI4)', '5.1.1(478106bf5f)', '4.4.2(G900FXXU1ANG9)'],\n",
       "      dtype=object)"
      ]
     },
     "execution_count": 11,
     "metadata": {},
     "output_type": "execute_result"
    }
   ],
   "source": [
    "df['QoD_os-version'].unique()"
   ]
  },
  {
   "cell_type": "markdown",
   "metadata": {},
   "source": [
    "We will now one hot encode the categories in 'QoD_os-version' :"
   ]
  },
  {
   "cell_type": "code",
   "execution_count": 12,
   "metadata": {},
   "outputs": [],
   "source": [
    "dummies = pd.get_dummies(df['QoD_os-version'],drop_first=True)"
   ]
  },
  {
   "cell_type": "code",
   "execution_count": 13,
   "metadata": {},
   "outputs": [],
   "source": [
    "df = pd.concat([df.drop('QoD_os-version',axis=1),dummies],axis=1)"
   ]
  },
  {
   "cell_type": "code",
   "execution_count": 14,
   "metadata": {},
   "outputs": [
    {
     "data": {
      "text/plain": [
       "Index(['QoA_VLCresolution', 'QoA_VLCbitrate', 'QoA_VLCframerate',\n",
       "       'QoA_VLCdropped', 'QoA_VLCaudiorate', 'QoA_VLCaudioloss',\n",
       "       'QoA_BUFFERINGcount', 'QoA_BUFFERINGtime', 'QoS_type', 'QoS_operator',\n",
       "       'QoD_model', 'QoD_api-level', 'QoU_sex', 'QoU_age', 'QoU_Ustedy',\n",
       "       'QoF_begin', 'QoF_shift', 'QoF_audio', 'QoF_video', 'MOS',\n",
       "       '4.1.1(122573.16)', '4.1.2(I9300XXELL4)', '4.3(I9300XXUGNB5)',\n",
       "       '4.3(I9506XXUBML5)', '4.4.2(G900FXXU1ANG2)', '4.4.2(G900FXXU1ANG9)',\n",
       "       '4.4.2(G900FXXU1ANJ1)', '4.4.2(I9195XXUCNK1)', '4.4.2(I9195XXUCNK4)',\n",
       "       '4.4.2(N9005XXUGNI4)', '4.4.4(suv3Rw)', '5.0(G900FXXU1BOC2)',\n",
       "       '5.0(G900FXXU1BOC7)', '5.0.1(1602158)', '5.0.1(457188.4)',\n",
       "       '5.1.1(456c49d1b2)', '5.1.1(478106bf5f)'],\n",
       "      dtype='object')"
      ]
     },
     "execution_count": 14,
     "metadata": {},
     "output_type": "execute_result"
    }
   ],
   "source": [
    "df.columns"
   ]
  },
  {
   "cell_type": "markdown",
   "metadata": {},
   "source": [
    "We have successfully created columns of our different categories in 'QoD_os-version'."
   ]
  },
  {
   "cell_type": "markdown",
   "metadata": {},
   "source": [
    "We now deal with the other categorical data :'QoD_model'"
   ]
  },
  {
   "cell_type": "code",
   "execution_count": 15,
   "metadata": {},
   "outputs": [
    {
     "data": {
      "text/plain": [
       "15"
      ]
     },
     "execution_count": 15,
     "metadata": {},
     "output_type": "execute_result"
    }
   ],
   "source": [
    "df['QoD_model'].nunique()"
   ]
  },
  {
   "cell_type": "code",
   "execution_count": 16,
   "metadata": {},
   "outputs": [
    {
     "data": {
      "text/plain": [
       "array(['HTC One X+', 'GT-I9195', 'GT-I9300', 'D5803', 'SM-G900F',\n",
       "       'ARCHOS 101G9', 'HTC One_M8', 'Nexus 4', 'SM-N9005', 'GT-I9191',\n",
       "       'GT-I9192', 'D5802', 'GT-I9189', 'GT-I9194', 'GT-I9193'],\n",
       "      dtype=object)"
      ]
     },
     "execution_count": 16,
     "metadata": {},
     "output_type": "execute_result"
    }
   ],
   "source": [
    "df['QoD_model'].unique()"
   ]
  },
  {
   "cell_type": "code",
   "execution_count": 17,
   "metadata": {},
   "outputs": [],
   "source": [
    "dummies = pd.get_dummies(df['QoD_model'],drop_first=True)"
   ]
  },
  {
   "cell_type": "code",
   "execution_count": 18,
   "metadata": {},
   "outputs": [],
   "source": [
    "df = pd.concat([df.drop('QoD_model',axis=1),dummies],axis=1)"
   ]
  },
  {
   "cell_type": "code",
   "execution_count": 19,
   "metadata": {},
   "outputs": [
    {
     "data": {
      "text/html": [
       "<div>\n",
       "<style scoped>\n",
       "    .dataframe tbody tr th:only-of-type {\n",
       "        vertical-align: middle;\n",
       "    }\n",
       "\n",
       "    .dataframe tbody tr th {\n",
       "        vertical-align: top;\n",
       "    }\n",
       "\n",
       "    .dataframe thead th {\n",
       "        text-align: right;\n",
       "    }\n",
       "</style>\n",
       "<table border=\"1\" class=\"dataframe\">\n",
       "  <thead>\n",
       "    <tr style=\"text-align: right;\">\n",
       "      <th></th>\n",
       "      <th>QoA_VLCresolution</th>\n",
       "      <th>QoA_VLCbitrate</th>\n",
       "      <th>QoA_VLCframerate</th>\n",
       "      <th>QoA_VLCdropped</th>\n",
       "      <th>QoA_VLCaudiorate</th>\n",
       "      <th>QoA_VLCaudioloss</th>\n",
       "      <th>QoA_BUFFERINGcount</th>\n",
       "      <th>QoA_BUFFERINGtime</th>\n",
       "      <th>QoS_type</th>\n",
       "      <th>QoS_operator</th>\n",
       "      <th>...</th>\n",
       "      <th>GT-I9192</th>\n",
       "      <th>GT-I9193</th>\n",
       "      <th>GT-I9194</th>\n",
       "      <th>GT-I9195</th>\n",
       "      <th>GT-I9300</th>\n",
       "      <th>HTC One X+</th>\n",
       "      <th>HTC One_M8</th>\n",
       "      <th>Nexus 4</th>\n",
       "      <th>SM-G900F</th>\n",
       "      <th>SM-N9005</th>\n",
       "    </tr>\n",
       "  </thead>\n",
       "  <tbody>\n",
       "    <tr>\n",
       "      <th>0</th>\n",
       "      <td>360</td>\n",
       "      <td>528.392940</td>\n",
       "      <td>24.950000</td>\n",
       "      <td>0</td>\n",
       "      <td>43.800000</td>\n",
       "      <td>0</td>\n",
       "      <td>2</td>\n",
       "      <td>683</td>\n",
       "      <td>4</td>\n",
       "      <td>2</td>\n",
       "      <td>...</td>\n",
       "      <td>0</td>\n",
       "      <td>0</td>\n",
       "      <td>0</td>\n",
       "      <td>0</td>\n",
       "      <td>0</td>\n",
       "      <td>1</td>\n",
       "      <td>0</td>\n",
       "      <td>0</td>\n",
       "      <td>0</td>\n",
       "      <td>0</td>\n",
       "    </tr>\n",
       "    <tr>\n",
       "      <th>1</th>\n",
       "      <td>360</td>\n",
       "      <td>402.646640</td>\n",
       "      <td>30.066667</td>\n",
       "      <td>0</td>\n",
       "      <td>44.200000</td>\n",
       "      <td>0</td>\n",
       "      <td>2</td>\n",
       "      <td>690</td>\n",
       "      <td>5</td>\n",
       "      <td>4</td>\n",
       "      <td>...</td>\n",
       "      <td>0</td>\n",
       "      <td>0</td>\n",
       "      <td>0</td>\n",
       "      <td>1</td>\n",
       "      <td>0</td>\n",
       "      <td>0</td>\n",
       "      <td>0</td>\n",
       "      <td>0</td>\n",
       "      <td>0</td>\n",
       "      <td>0</td>\n",
       "    </tr>\n",
       "    <tr>\n",
       "      <th>2</th>\n",
       "      <td>360</td>\n",
       "      <td>735.840700</td>\n",
       "      <td>24.200000</td>\n",
       "      <td>0</td>\n",
       "      <td>44.183333</td>\n",
       "      <td>0</td>\n",
       "      <td>2</td>\n",
       "      <td>840</td>\n",
       "      <td>2</td>\n",
       "      <td>2</td>\n",
       "      <td>...</td>\n",
       "      <td>0</td>\n",
       "      <td>0</td>\n",
       "      <td>0</td>\n",
       "      <td>0</td>\n",
       "      <td>1</td>\n",
       "      <td>0</td>\n",
       "      <td>0</td>\n",
       "      <td>0</td>\n",
       "      <td>0</td>\n",
       "      <td>0</td>\n",
       "    </tr>\n",
       "    <tr>\n",
       "      <th>3</th>\n",
       "      <td>240</td>\n",
       "      <td>529.488300</td>\n",
       "      <td>24.116667</td>\n",
       "      <td>9</td>\n",
       "      <td>43.850000</td>\n",
       "      <td>0</td>\n",
       "      <td>2</td>\n",
       "      <td>868</td>\n",
       "      <td>2</td>\n",
       "      <td>2</td>\n",
       "      <td>...</td>\n",
       "      <td>0</td>\n",
       "      <td>0</td>\n",
       "      <td>0</td>\n",
       "      <td>0</td>\n",
       "      <td>0</td>\n",
       "      <td>0</td>\n",
       "      <td>0</td>\n",
       "      <td>0</td>\n",
       "      <td>0</td>\n",
       "      <td>0</td>\n",
       "    </tr>\n",
       "    <tr>\n",
       "      <th>4</th>\n",
       "      <td>360</td>\n",
       "      <td>736.000850</td>\n",
       "      <td>24.066667</td>\n",
       "      <td>0</td>\n",
       "      <td>43.850000</td>\n",
       "      <td>0</td>\n",
       "      <td>2</td>\n",
       "      <td>869</td>\n",
       "      <td>4</td>\n",
       "      <td>4</td>\n",
       "      <td>...</td>\n",
       "      <td>0</td>\n",
       "      <td>0</td>\n",
       "      <td>0</td>\n",
       "      <td>0</td>\n",
       "      <td>1</td>\n",
       "      <td>0</td>\n",
       "      <td>0</td>\n",
       "      <td>0</td>\n",
       "      <td>0</td>\n",
       "      <td>0</td>\n",
       "    </tr>\n",
       "    <tr>\n",
       "      <th>...</th>\n",
       "      <td>...</td>\n",
       "      <td>...</td>\n",
       "      <td>...</td>\n",
       "      <td>...</td>\n",
       "      <td>...</td>\n",
       "      <td>...</td>\n",
       "      <td>...</td>\n",
       "      <td>...</td>\n",
       "      <td>...</td>\n",
       "      <td>...</td>\n",
       "      <td>...</td>\n",
       "      <td>...</td>\n",
       "      <td>...</td>\n",
       "      <td>...</td>\n",
       "      <td>...</td>\n",
       "      <td>...</td>\n",
       "      <td>...</td>\n",
       "      <td>...</td>\n",
       "      <td>...</td>\n",
       "      <td>...</td>\n",
       "      <td>...</td>\n",
       "    </tr>\n",
       "    <tr>\n",
       "      <th>1538</th>\n",
       "      <td>360</td>\n",
       "      <td>37.281925</td>\n",
       "      <td>2.300000</td>\n",
       "      <td>1</td>\n",
       "      <td>4.216667</td>\n",
       "      <td>1</td>\n",
       "      <td>2</td>\n",
       "      <td>120628</td>\n",
       "      <td>1</td>\n",
       "      <td>3</td>\n",
       "      <td>...</td>\n",
       "      <td>0</td>\n",
       "      <td>0</td>\n",
       "      <td>0</td>\n",
       "      <td>0</td>\n",
       "      <td>0</td>\n",
       "      <td>0</td>\n",
       "      <td>0</td>\n",
       "      <td>0</td>\n",
       "      <td>0</td>\n",
       "      <td>0</td>\n",
       "    </tr>\n",
       "    <tr>\n",
       "      <th>1539</th>\n",
       "      <td>360</td>\n",
       "      <td>43.191174</td>\n",
       "      <td>12.950000</td>\n",
       "      <td>24</td>\n",
       "      <td>19.016667</td>\n",
       "      <td>3</td>\n",
       "      <td>3</td>\n",
       "      <td>123318</td>\n",
       "      <td>1</td>\n",
       "      <td>3</td>\n",
       "      <td>...</td>\n",
       "      <td>0</td>\n",
       "      <td>0</td>\n",
       "      <td>0</td>\n",
       "      <td>0</td>\n",
       "      <td>0</td>\n",
       "      <td>0</td>\n",
       "      <td>0</td>\n",
       "      <td>0</td>\n",
       "      <td>0</td>\n",
       "      <td>0</td>\n",
       "    </tr>\n",
       "    <tr>\n",
       "      <th>1540</th>\n",
       "      <td>360</td>\n",
       "      <td>58.460570</td>\n",
       "      <td>4.250000</td>\n",
       "      <td>4</td>\n",
       "      <td>8.416667</td>\n",
       "      <td>1</td>\n",
       "      <td>4</td>\n",
       "      <td>123430</td>\n",
       "      <td>1</td>\n",
       "      <td>3</td>\n",
       "      <td>...</td>\n",
       "      <td>0</td>\n",
       "      <td>0</td>\n",
       "      <td>0</td>\n",
       "      <td>0</td>\n",
       "      <td>0</td>\n",
       "      <td>0</td>\n",
       "      <td>0</td>\n",
       "      <td>0</td>\n",
       "      <td>1</td>\n",
       "      <td>0</td>\n",
       "    </tr>\n",
       "    <tr>\n",
       "      <th>1541</th>\n",
       "      <td>360</td>\n",
       "      <td>47.591620</td>\n",
       "      <td>0.133333</td>\n",
       "      <td>1</td>\n",
       "      <td>19.600000</td>\n",
       "      <td>2</td>\n",
       "      <td>3</td>\n",
       "      <td>139610</td>\n",
       "      <td>2</td>\n",
       "      <td>1</td>\n",
       "      <td>...</td>\n",
       "      <td>0</td>\n",
       "      <td>0</td>\n",
       "      <td>0</td>\n",
       "      <td>0</td>\n",
       "      <td>0</td>\n",
       "      <td>1</td>\n",
       "      <td>0</td>\n",
       "      <td>0</td>\n",
       "      <td>0</td>\n",
       "      <td>0</td>\n",
       "    </tr>\n",
       "    <tr>\n",
       "      <th>1542</th>\n",
       "      <td>360</td>\n",
       "      <td>43.528040</td>\n",
       "      <td>6.633333</td>\n",
       "      <td>12</td>\n",
       "      <td>12.133333</td>\n",
       "      <td>0</td>\n",
       "      <td>4</td>\n",
       "      <td>329271</td>\n",
       "      <td>1</td>\n",
       "      <td>3</td>\n",
       "      <td>...</td>\n",
       "      <td>0</td>\n",
       "      <td>0</td>\n",
       "      <td>0</td>\n",
       "      <td>0</td>\n",
       "      <td>0</td>\n",
       "      <td>0</td>\n",
       "      <td>0</td>\n",
       "      <td>0</td>\n",
       "      <td>0</td>\n",
       "      <td>0</td>\n",
       "    </tr>\n",
       "  </tbody>\n",
       "</table>\n",
       "<p>1543 rows × 50 columns</p>\n",
       "</div>"
      ],
      "text/plain": [
       "      QoA_VLCresolution  QoA_VLCbitrate  QoA_VLCframerate  QoA_VLCdropped  \\\n",
       "0                   360      528.392940         24.950000               0   \n",
       "1                   360      402.646640         30.066667               0   \n",
       "2                   360      735.840700         24.200000               0   \n",
       "3                   240      529.488300         24.116667               9   \n",
       "4                   360      736.000850         24.066667               0   \n",
       "...                 ...             ...               ...             ...   \n",
       "1538                360       37.281925          2.300000               1   \n",
       "1539                360       43.191174         12.950000              24   \n",
       "1540                360       58.460570          4.250000               4   \n",
       "1541                360       47.591620          0.133333               1   \n",
       "1542                360       43.528040          6.633333              12   \n",
       "\n",
       "      QoA_VLCaudiorate  QoA_VLCaudioloss  QoA_BUFFERINGcount  \\\n",
       "0            43.800000                 0                   2   \n",
       "1            44.200000                 0                   2   \n",
       "2            44.183333                 0                   2   \n",
       "3            43.850000                 0                   2   \n",
       "4            43.850000                 0                   2   \n",
       "...                ...               ...                 ...   \n",
       "1538          4.216667                 1                   2   \n",
       "1539         19.016667                 3                   3   \n",
       "1540          8.416667                 1                   4   \n",
       "1541         19.600000                 2                   3   \n",
       "1542         12.133333                 0                   4   \n",
       "\n",
       "      QoA_BUFFERINGtime  QoS_type  QoS_operator  ...  GT-I9192  GT-I9193  \\\n",
       "0                   683         4             2  ...         0         0   \n",
       "1                   690         5             4  ...         0         0   \n",
       "2                   840         2             2  ...         0         0   \n",
       "3                   868         2             2  ...         0         0   \n",
       "4                   869         4             4  ...         0         0   \n",
       "...                 ...       ...           ...  ...       ...       ...   \n",
       "1538             120628         1             3  ...         0         0   \n",
       "1539             123318         1             3  ...         0         0   \n",
       "1540             123430         1             3  ...         0         0   \n",
       "1541             139610         2             1  ...         0         0   \n",
       "1542             329271         1             3  ...         0         0   \n",
       "\n",
       "      GT-I9194  GT-I9195  GT-I9300  HTC One X+  HTC One_M8  Nexus 4  SM-G900F  \\\n",
       "0            0         0         0           1           0        0         0   \n",
       "1            0         1         0           0           0        0         0   \n",
       "2            0         0         1           0           0        0         0   \n",
       "3            0         0         0           0           0        0         0   \n",
       "4            0         0         1           0           0        0         0   \n",
       "...        ...       ...       ...         ...         ...      ...       ...   \n",
       "1538         0         0         0           0           0        0         0   \n",
       "1539         0         0         0           0           0        0         0   \n",
       "1540         0         0         0           0           0        0         1   \n",
       "1541         0         0         0           1           0        0         0   \n",
       "1542         0         0         0           0           0        0         0   \n",
       "\n",
       "      SM-N9005  \n",
       "0            0  \n",
       "1            0  \n",
       "2            0  \n",
       "3            0  \n",
       "4            0  \n",
       "...        ...  \n",
       "1538         0  \n",
       "1539         0  \n",
       "1540         0  \n",
       "1541         0  \n",
       "1542         0  \n",
       "\n",
       "[1543 rows x 50 columns]"
      ]
     },
     "execution_count": 19,
     "metadata": {},
     "output_type": "execute_result"
    }
   ],
   "source": [
    "df"
   ]
  },
  {
   "cell_type": "markdown",
   "metadata": {},
   "source": [
    "We have now dealt with all the categorical data."
   ]
  },
  {
   "cell_type": "markdown",
   "metadata": {},
   "source": [
    "We check if we can change anything in our dataset :"
   ]
  },
  {
   "cell_type": "code",
   "execution_count": 20,
   "metadata": {},
   "outputs": [
    {
     "data": {
      "text/plain": [
       "Index(['QoA_VLCresolution', 'QoA_VLCbitrate', 'QoA_VLCframerate',\n",
       "       'QoA_VLCdropped', 'QoA_VLCaudiorate', 'QoA_VLCaudioloss',\n",
       "       'QoA_BUFFERINGcount', 'QoA_BUFFERINGtime', 'QoS_type', 'QoS_operator',\n",
       "       'QoD_api-level', 'QoU_sex', 'QoU_age', 'QoU_Ustedy', 'QoF_begin',\n",
       "       'QoF_shift', 'QoF_audio', 'QoF_video', 'MOS', '4.1.1(122573.16)',\n",
       "       '4.1.2(I9300XXELL4)', '4.3(I9300XXUGNB5)', '4.3(I9506XXUBML5)',\n",
       "       '4.4.2(G900FXXU1ANG2)', '4.4.2(G900FXXU1ANG9)', '4.4.2(G900FXXU1ANJ1)',\n",
       "       '4.4.2(I9195XXUCNK1)', '4.4.2(I9195XXUCNK4)', '4.4.2(N9005XXUGNI4)',\n",
       "       '4.4.4(suv3Rw)', '5.0(G900FXXU1BOC2)', '5.0(G900FXXU1BOC7)',\n",
       "       '5.0.1(1602158)', '5.0.1(457188.4)', '5.1.1(456c49d1b2)',\n",
       "       '5.1.1(478106bf5f)', 'D5802', 'D5803', 'GT-I9189', 'GT-I9191',\n",
       "       'GT-I9192', 'GT-I9193', 'GT-I9194', 'GT-I9195', 'GT-I9300',\n",
       "       'HTC One X+', 'HTC One_M8', 'Nexus 4', 'SM-G900F', 'SM-N9005'],\n",
       "      dtype='object')"
      ]
     },
     "execution_count": 20,
     "metadata": {},
     "output_type": "execute_result"
    }
   ],
   "source": [
    "df.columns"
   ]
  },
  {
   "cell_type": "code",
   "execution_count": 21,
   "metadata": {},
   "outputs": [
    {
     "data": {
      "text/plain": [
       "array([4, 5, 2, 3, 1], dtype=int64)"
      ]
     },
     "execution_count": 21,
     "metadata": {},
     "output_type": "execute_result"
    }
   ],
   "source": [
    "df['QoS_type'].unique()"
   ]
  },
  {
   "cell_type": "code",
   "execution_count": 22,
   "metadata": {},
   "outputs": [
    {
     "data": {
      "text/plain": [
       "array([2, 4, 1, 3], dtype=int64)"
      ]
     },
     "execution_count": 22,
     "metadata": {},
     "output_type": "execute_result"
    }
   ],
   "source": [
    "df['QoS_operator'].unique()"
   ]
  },
  {
   "cell_type": "code",
   "execution_count": 23,
   "metadata": {},
   "outputs": [
    {
     "data": {
      "text/plain": [
       "array([5, 4, 2, 3], dtype=int64)"
      ]
     },
     "execution_count": 23,
     "metadata": {},
     "output_type": "execute_result"
    }
   ],
   "source": [
    "df['QoU_Ustedy'].unique()"
   ]
  },
  {
   "cell_type": "markdown",
   "metadata": {},
   "source": [
    "'QoS_type' is categorical data label encoded, so it implies order. We need to fix it to remove this implication and turn it into onehotencoding."
   ]
  },
  {
   "cell_type": "markdown",
   "metadata": {},
   "source": [
    "1 : EDGE\n",
    "\n",
    "2 : UMTS\n",
    "\n",
    "3 : HSPA\n",
    "\n",
    "4 : HSPAP\n",
    "\n",
    "5 : LTE"
   ]
  },
  {
   "cell_type": "markdown",
   "metadata": {},
   "source": [
    "'QoS_operator' is categorical data label encoded, so it implies order. We need to fix it to remove this implication and turn it into onehotencoding."
   ]
  },
  {
   "cell_type": "markdown",
   "metadata": {},
   "source": [
    "• 1 : SFR\n",
    "\n",
    "• 2 : BOUYEGUES\n",
    "\n",
    "• 3 : ORANGE\n",
    "\n",
    "• 4 : FREE"
   ]
  },
  {
   "cell_type": "markdown",
   "metadata": {},
   "source": [
    "Same for 'QoU_Ustedy':\n",
    "\n"
   ]
  },
  {
   "cell_type": "markdown",
   "metadata": {},
   "source": [
    " 5 -> University\n",
    "\n",
    "• 4 -> Secondary school\n",
    "\n",
    "• 3 -> College\n",
    "\n",
    "• 2 -> Premary school\n",
    "\n",
    "• 1 -> Other"
   ]
  },
  {
   "cell_type": "markdown",
   "metadata": {},
   "source": [
    "We will use dictionnaries to map the values to the category :"
   ]
  },
  {
   "cell_type": "code",
   "execution_count": 24,
   "metadata": {},
   "outputs": [],
   "source": [
    "dict_QoS_type = {1 : 'EDGE' , 2 : 'UMTS', 3 : 'HSPA', 4 : 'HSPAP', 5 : 'LTE'}\n",
    "dict_QoS_operator= {1 : 'SFR', 2 : 'BOUYEGUES', 3 : 'ORANGE', 4 : 'FREE'}\n",
    "dict_QoU_Ustedy = {5 : 'University',4 :'Secondary school', 3 : 'College', 2 :'Premary school', 1 : 'Other'}"
   ]
  },
  {
   "cell_type": "code",
   "execution_count": 25,
   "metadata": {},
   "outputs": [],
   "source": [
    "df['QoS_type'] = df['QoS_type'].map(dict_QoS_type)\n",
    "df['QoS_operator'] = df['QoS_operator'].map(dict_QoS_operator)\n",
    "df['QoU_Ustedy']=df['QoU_Ustedy'].map(dict_QoU_Ustedy)"
   ]
  },
  {
   "cell_type": "markdown",
   "metadata": {},
   "source": [
    "Now we transform our categorical rows into columns :"
   ]
  },
  {
   "cell_type": "code",
   "execution_count": 26,
   "metadata": {},
   "outputs": [],
   "source": [
    "dummies = pd.get_dummies(df['QoS_type'],drop_first=True)\n",
    "df = pd.concat([df.drop('QoS_type',axis=1),dummies],axis=1)"
   ]
  },
  {
   "cell_type": "code",
   "execution_count": 27,
   "metadata": {},
   "outputs": [],
   "source": [
    "dummies = pd.get_dummies(df['QoS_operator'],drop_first=True)\n",
    "df = pd.concat([df.drop('QoS_operator',axis=1),dummies],axis=1)"
   ]
  },
  {
   "cell_type": "code",
   "execution_count": 28,
   "metadata": {},
   "outputs": [],
   "source": [
    "dummies = pd.get_dummies(df['QoU_Ustedy'],drop_first=True)\n",
    "df = pd.concat([df.drop('QoU_Ustedy',axis=1),dummies],axis=1)"
   ]
  },
  {
   "cell_type": "code",
   "execution_count": 29,
   "metadata": {},
   "outputs": [
    {
     "data": {
      "text/plain": [
       "Index(['QoA_VLCresolution', 'QoA_VLCbitrate', 'QoA_VLCframerate',\n",
       "       'QoA_VLCdropped', 'QoA_VLCaudiorate', 'QoA_VLCaudioloss',\n",
       "       'QoA_BUFFERINGcount', 'QoA_BUFFERINGtime', 'QoD_api-level', 'QoU_sex',\n",
       "       'QoU_age', 'QoF_begin', 'QoF_shift', 'QoF_audio', 'QoF_video', 'MOS',\n",
       "       '4.1.1(122573.16)', '4.1.2(I9300XXELL4)', '4.3(I9300XXUGNB5)',\n",
       "       '4.3(I9506XXUBML5)', '4.4.2(G900FXXU1ANG2)', '4.4.2(G900FXXU1ANG9)',\n",
       "       '4.4.2(G900FXXU1ANJ1)', '4.4.2(I9195XXUCNK1)', '4.4.2(I9195XXUCNK4)',\n",
       "       '4.4.2(N9005XXUGNI4)', '4.4.4(suv3Rw)', '5.0(G900FXXU1BOC2)',\n",
       "       '5.0(G900FXXU1BOC7)', '5.0.1(1602158)', '5.0.1(457188.4)',\n",
       "       '5.1.1(456c49d1b2)', '5.1.1(478106bf5f)', 'D5802', 'D5803', 'GT-I9189',\n",
       "       'GT-I9191', 'GT-I9192', 'GT-I9193', 'GT-I9194', 'GT-I9195', 'GT-I9300',\n",
       "       'HTC One X+', 'HTC One_M8', 'Nexus 4', 'SM-G900F', 'SM-N9005', 'HSPA',\n",
       "       'HSPAP', 'LTE', 'UMTS', 'FREE', 'ORANGE', 'SFR', 'Premary school',\n",
       "       'Secondary school', 'University'],\n",
       "      dtype='object')"
      ]
     },
     "execution_count": 29,
     "metadata": {},
     "output_type": "execute_result"
    }
   ],
   "source": [
    "df.columns"
   ]
  },
  {
   "cell_type": "code",
   "execution_count": 30,
   "metadata": {},
   "outputs": [
    {
     "data": {
      "text/html": [
       "<div>\n",
       "<style scoped>\n",
       "    .dataframe tbody tr th:only-of-type {\n",
       "        vertical-align: middle;\n",
       "    }\n",
       "\n",
       "    .dataframe tbody tr th {\n",
       "        vertical-align: top;\n",
       "    }\n",
       "\n",
       "    .dataframe thead th {\n",
       "        text-align: right;\n",
       "    }\n",
       "</style>\n",
       "<table border=\"1\" class=\"dataframe\">\n",
       "  <thead>\n",
       "    <tr style=\"text-align: right;\">\n",
       "      <th></th>\n",
       "      <th>QoA_VLCresolution</th>\n",
       "      <th>QoA_VLCbitrate</th>\n",
       "      <th>QoA_VLCframerate</th>\n",
       "      <th>QoA_VLCdropped</th>\n",
       "      <th>QoA_VLCaudiorate</th>\n",
       "      <th>QoA_VLCaudioloss</th>\n",
       "      <th>QoA_BUFFERINGcount</th>\n",
       "      <th>QoA_BUFFERINGtime</th>\n",
       "      <th>QoD_api-level</th>\n",
       "      <th>QoU_sex</th>\n",
       "      <th>...</th>\n",
       "      <th>HSPA</th>\n",
       "      <th>HSPAP</th>\n",
       "      <th>LTE</th>\n",
       "      <th>UMTS</th>\n",
       "      <th>FREE</th>\n",
       "      <th>ORANGE</th>\n",
       "      <th>SFR</th>\n",
       "      <th>Premary school</th>\n",
       "      <th>Secondary school</th>\n",
       "      <th>University</th>\n",
       "    </tr>\n",
       "  </thead>\n",
       "  <tbody>\n",
       "    <tr>\n",
       "      <th>0</th>\n",
       "      <td>360</td>\n",
       "      <td>528.39294</td>\n",
       "      <td>24.950000</td>\n",
       "      <td>0</td>\n",
       "      <td>43.800000</td>\n",
       "      <td>0</td>\n",
       "      <td>2</td>\n",
       "      <td>683</td>\n",
       "      <td>16</td>\n",
       "      <td>1</td>\n",
       "      <td>...</td>\n",
       "      <td>0</td>\n",
       "      <td>1</td>\n",
       "      <td>0</td>\n",
       "      <td>0</td>\n",
       "      <td>0</td>\n",
       "      <td>0</td>\n",
       "      <td>0</td>\n",
       "      <td>0</td>\n",
       "      <td>0</td>\n",
       "      <td>1</td>\n",
       "    </tr>\n",
       "    <tr>\n",
       "      <th>1</th>\n",
       "      <td>360</td>\n",
       "      <td>402.64664</td>\n",
       "      <td>30.066667</td>\n",
       "      <td>0</td>\n",
       "      <td>44.200000</td>\n",
       "      <td>0</td>\n",
       "      <td>2</td>\n",
       "      <td>690</td>\n",
       "      <td>19</td>\n",
       "      <td>1</td>\n",
       "      <td>...</td>\n",
       "      <td>0</td>\n",
       "      <td>0</td>\n",
       "      <td>1</td>\n",
       "      <td>0</td>\n",
       "      <td>1</td>\n",
       "      <td>0</td>\n",
       "      <td>0</td>\n",
       "      <td>0</td>\n",
       "      <td>0</td>\n",
       "      <td>1</td>\n",
       "    </tr>\n",
       "    <tr>\n",
       "      <th>2</th>\n",
       "      <td>360</td>\n",
       "      <td>735.84070</td>\n",
       "      <td>24.200000</td>\n",
       "      <td>0</td>\n",
       "      <td>44.183333</td>\n",
       "      <td>0</td>\n",
       "      <td>2</td>\n",
       "      <td>840</td>\n",
       "      <td>16</td>\n",
       "      <td>1</td>\n",
       "      <td>...</td>\n",
       "      <td>0</td>\n",
       "      <td>0</td>\n",
       "      <td>0</td>\n",
       "      <td>1</td>\n",
       "      <td>0</td>\n",
       "      <td>0</td>\n",
       "      <td>0</td>\n",
       "      <td>0</td>\n",
       "      <td>0</td>\n",
       "      <td>1</td>\n",
       "    </tr>\n",
       "    <tr>\n",
       "      <th>3</th>\n",
       "      <td>240</td>\n",
       "      <td>529.48830</td>\n",
       "      <td>24.116667</td>\n",
       "      <td>9</td>\n",
       "      <td>43.850000</td>\n",
       "      <td>0</td>\n",
       "      <td>2</td>\n",
       "      <td>868</td>\n",
       "      <td>19</td>\n",
       "      <td>1</td>\n",
       "      <td>...</td>\n",
       "      <td>0</td>\n",
       "      <td>0</td>\n",
       "      <td>0</td>\n",
       "      <td>1</td>\n",
       "      <td>0</td>\n",
       "      <td>0</td>\n",
       "      <td>0</td>\n",
       "      <td>0</td>\n",
       "      <td>0</td>\n",
       "      <td>1</td>\n",
       "    </tr>\n",
       "    <tr>\n",
       "      <th>4</th>\n",
       "      <td>360</td>\n",
       "      <td>736.00085</td>\n",
       "      <td>24.066667</td>\n",
       "      <td>0</td>\n",
       "      <td>43.850000</td>\n",
       "      <td>0</td>\n",
       "      <td>2</td>\n",
       "      <td>869</td>\n",
       "      <td>16</td>\n",
       "      <td>0</td>\n",
       "      <td>...</td>\n",
       "      <td>0</td>\n",
       "      <td>1</td>\n",
       "      <td>0</td>\n",
       "      <td>0</td>\n",
       "      <td>1</td>\n",
       "      <td>0</td>\n",
       "      <td>0</td>\n",
       "      <td>0</td>\n",
       "      <td>0</td>\n",
       "      <td>1</td>\n",
       "    </tr>\n",
       "  </tbody>\n",
       "</table>\n",
       "<p>5 rows × 57 columns</p>\n",
       "</div>"
      ],
      "text/plain": [
       "   QoA_VLCresolution  QoA_VLCbitrate  QoA_VLCframerate  QoA_VLCdropped  \\\n",
       "0                360       528.39294         24.950000               0   \n",
       "1                360       402.64664         30.066667               0   \n",
       "2                360       735.84070         24.200000               0   \n",
       "3                240       529.48830         24.116667               9   \n",
       "4                360       736.00085         24.066667               0   \n",
       "\n",
       "   QoA_VLCaudiorate  QoA_VLCaudioloss  QoA_BUFFERINGcount  QoA_BUFFERINGtime  \\\n",
       "0         43.800000                 0                   2                683   \n",
       "1         44.200000                 0                   2                690   \n",
       "2         44.183333                 0                   2                840   \n",
       "3         43.850000                 0                   2                868   \n",
       "4         43.850000                 0                   2                869   \n",
       "\n",
       "   QoD_api-level  QoU_sex  ...  HSPA  HSPAP  LTE  UMTS  FREE  ORANGE  SFR  \\\n",
       "0             16        1  ...     0      1    0     0     0       0    0   \n",
       "1             19        1  ...     0      0    1     0     1       0    0   \n",
       "2             16        1  ...     0      0    0     1     0       0    0   \n",
       "3             19        1  ...     0      0    0     1     0       0    0   \n",
       "4             16        0  ...     0      1    0     0     1       0    0   \n",
       "\n",
       "   Premary school  Secondary school  University  \n",
       "0               0                 0           1  \n",
       "1               0                 0           1  \n",
       "2               0                 0           1  \n",
       "3               0                 0           1  \n",
       "4               0                 0           1  \n",
       "\n",
       "[5 rows x 57 columns]"
      ]
     },
     "execution_count": 30,
     "metadata": {},
     "output_type": "execute_result"
    }
   ],
   "source": [
    "df.head()"
   ]
  },
  {
   "cell_type": "markdown",
   "metadata": {},
   "source": [
    "We look for correlation between our different columns :"
   ]
  },
  {
   "cell_type": "code",
   "execution_count": 31,
   "metadata": {},
   "outputs": [
    {
     "data": {
      "text/plain": [
       "<AxesSubplot:>"
      ]
     },
     "execution_count": 31,
     "metadata": {},
     "output_type": "execute_result"
    },
    {
     "data": {
      "image/png": "[encoded data removed]",
      "text/plain": [
       "<Figure size 1296x1008 with 2 Axes>"
      ]
     },
     "metadata": {
      "needs_background": "light"
     },
     "output_type": "display_data"
    }
   ],
   "source": [
    "plt.figure(figsize=(18,14))\n",
    "sns.heatmap(df.corr())"
   ]
  },
  {
   "cell_type": "code",
   "execution_count": 32,
   "metadata": {},
   "outputs": [
    {
     "data": {
      "text/plain": [
       "MOS                     1.000000\n",
       "QoF_audio               0.840735\n",
       "QoF_video               0.689358\n",
       "QoF_shift               0.634058\n",
       "QoF_begin               0.591324\n",
       "QoA_VLCframerate        0.544164\n",
       "QoA_VLCaudiorate        0.353631\n",
       "QoD_api-level           0.133560\n",
       "ORANGE                  0.127363\n",
       "D5803                   0.109564\n",
       "4.4.4(suv3Rw)           0.107366\n",
       "HSPAP                   0.098042\n",
       "QoA_VLCbitrate          0.089671\n",
       "University              0.082906\n",
       "QoU_sex                 0.062251\n",
       "LTE                     0.047529\n",
       "4.4.2(N9005XXUGNI4)     0.040145\n",
       "SM-N9005                0.040145\n",
       "4.4.2(I9195XXUCNK1)     0.028262\n",
       "4.4.2(G900FXXU1ANJ1)    0.026367\n",
       "5.1.1(456c49d1b2)       0.023212\n",
       "4.4.2(G900FXXU1ANG2)    0.020872\n",
       "GT-I9195                0.017133\n",
       "5.0.1(457188.4)         0.010611\n",
       "HTC One_M8              0.010611\n",
       "GT-I9189                0.007174\n",
       "GT-I9194                0.007174\n",
       "4.4.2(G900FXXU1ANG9)    0.007174\n",
       "GT-I9192                0.007174\n",
       "GT-I9191                0.007174\n",
       "SM-G900F                0.005481\n",
       "5.0.1(1602158)          0.004015\n",
       "4.3(I9300XXUGNB5)      -0.003690\n",
       "Nexus 4                -0.012047\n",
       "5.0(G900FXXU1BOC7)     -0.015491\n",
       "GT-I9300               -0.015559\n",
       "GT-I9193               -0.016943\n",
       "4.4.2(I9195XXUCNK4)    -0.018439\n",
       "Premary school         -0.018575\n",
       "5.0(G900FXXU1BOC2)     -0.020902\n",
       "4.3(I9506XXUBML5)      -0.022392\n",
       "QoA_VLCresolution      -0.022485\n",
       "4.1.2(I9300XXELL4)     -0.023591\n",
       "UMTS                   -0.032672\n",
       "5.1.1(478106bf5f)      -0.034490\n",
       "QoU_age                -0.039230\n",
       "D5802                  -0.041059\n",
       "FREE                   -0.050883\n",
       "Secondary school       -0.090553\n",
       "HSPA                   -0.091903\n",
       "SFR                    -0.100502\n",
       "4.1.1(122573.16)       -0.118508\n",
       "HTC One X+             -0.118508\n",
       "QoA_VLCdropped         -0.237135\n",
       "QoA_VLCaudioloss       -0.323338\n",
       "QoA_BUFFERINGcount     -0.411176\n",
       "QoA_BUFFERINGtime      -0.482378\n",
       "Name: MOS, dtype: float64"
      ]
     },
     "execution_count": 32,
     "metadata": {},
     "output_type": "execute_result"
    }
   ],
   "source": [
    "df.corr()['MOS'].sort_values(ascending=False)"
   ]
  },
  {
   "cell_type": "markdown",
   "metadata": {},
   "source": [
    "We can see that 'MOS' has a very high correlation with 'QoF_audio' 'QoF_video' and 'QoF_shift'"
   ]
  },
  {
   "cell_type": "markdown",
   "metadata": {},
   "source": [
    "Now our dataset is ready to be used :"
   ]
  },
  {
   "cell_type": "code",
   "execution_count": 33,
   "metadata": {},
   "outputs": [],
   "source": [
    "X=df.drop('MOS',axis=1).values\n",
    "y=df['MOS'].values"
   ]
  },
  {
   "cell_type": "markdown",
   "metadata": {},
   "source": [
    "We import libraries to split our data set into train and test set (train_test_split)"
   ]
  },
  {
   "cell_type": "markdown",
   "metadata": {},
   "source": [
    "And MinMaxScaler to scale our data"
   ]
  },
  {
   "cell_type": "code",
   "execution_count": 34,
   "metadata": {},
   "outputs": [],
   "source": [
    "from sklearn.model_selection import train_test_split\n",
    "from sklearn.preprocessing import MinMaxScaler\n",
    "scaler=MinMaxScaler()"
   ]
  },
  {
   "cell_type": "markdown",
   "metadata": {},
   "source": [
    "We split our data into training and test set:"
   ]
  },
  {
   "cell_type": "code",
   "execution_count": 35,
   "metadata": {},
   "outputs": [],
   "source": [
    "X_train, X_test, y_train, y_test = train_test_split(X, y, test_size=0.25, random_state=42)"
   ]
  },
  {
   "cell_type": "markdown",
   "metadata": {},
   "source": [
    "We set our scaler to fit on the training data."
   ]
  },
  {
   "cell_type": "markdown",
   "metadata": {},
   "source": [
    "Then we transform both our training and test data"
   ]
  },
  {
   "cell_type": "code",
   "execution_count": 36,
   "metadata": {},
   "outputs": [],
   "source": [
    "X_train = scaler.fit_transform(X_train)\n",
    "X_test = scaler.transform(X_test)"
   ]
  },
  {
   "cell_type": "markdown",
   "metadata": {},
   "source": [
    "We import metrics to see how good our machine learning algorithms perform :"
   ]
  },
  {
   "cell_type": "code",
   "execution_count": 37,
   "metadata": {},
   "outputs": [],
   "source": [
    "from sklearn.metrics import mean_squared_error\n",
    "from sklearn.metrics import r2_score"
   ]
  },
  {
   "cell_type": "markdown",
   "metadata": {},
   "source": [
    "We can treat this data science problem either as regression or classification"
   ]
  },
  {
   "cell_type": "markdown",
   "metadata": {},
   "source": [
    "I choose to solve it as a regression problem where we need to predict the MOS as a rating(float) between 1 and 5."
   ]
  },
  {
   "cell_type": "markdown",
   "metadata": {},
   "source": [
    "We import the libraries for the different algorithms :"
   ]
  },
  {
   "cell_type": "code",
   "execution_count": 38,
   "metadata": {},
   "outputs": [],
   "source": [
    "from sklearn.linear_model import LinearRegression\n",
    "from sklearn.preprocessing import PolynomialFeatures\n",
    "from sklearn.svm import SVR\n",
    "from sklearn.tree import DecisionTreeRegressor\n",
    "from sklearn.ensemble import RandomForestRegressor"
   ]
  },
  {
   "cell_type": "markdown",
   "metadata": {},
   "source": [
    "We try first a linear regression :"
   ]
  },
  {
   "cell_type": "code",
   "execution_count": 39,
   "metadata": {},
   "outputs": [
    {
     "name": "stdout",
     "output_type": "stream",
     "text": [
      "the MSE is : 5.132578501038454e+20\n",
      "the R2 score is : -0.003\n"
     ]
    }
   ],
   "source": [
    "regressor = LinearRegression()\n",
    "regressor.fit(X_train, y_train)\n",
    "y_pred = regressor.predict(X_test)\n",
    "print('the MSE is :', round(mean_squared_error(y_pred,y_test),3))\n",
    "print('the R2 score is :',round(r2_score(y_pred,y_test),3))"
   ]
  },
  {
   "cell_type": "markdown",
   "metadata": {},
   "source": [
    "It was expected that Linear regression would be a very bad model in our case."
   ]
  },
  {
   "cell_type": "markdown",
   "metadata": {},
   "source": [
    "We can see that the MSE is very big, so that confirms it."
   ]
  },
  {
   "cell_type": "markdown",
   "metadata": {},
   "source": [
    "Support Vector regression :"
   ]
  },
  {
   "cell_type": "code",
   "execution_count": 40,
   "metadata": {},
   "outputs": [
    {
     "name": "stdout",
     "output_type": "stream",
     "text": [
      "the MSE is : 0.19\n",
      "the R2 score is : 0.794\n"
     ]
    }
   ],
   "source": [
    "regressor = SVR(kernel = 'rbf')\n",
    "regressor.fit(X_train, y_train)\n",
    "y_pred = regressor.predict(X_test)\n",
    "print('the MSE is :', round(mean_squared_error(y_pred,y_test),3))\n",
    "print('the R2 score is :', round(r2_score(y_pred,y_test),3))"
   ]
  },
  {
   "cell_type": "markdown",
   "metadata": {},
   "source": [
    "We get a very good score by using support vector regression which is very impressive."
   ]
  },
  {
   "cell_type": "markdown",
   "metadata": {},
   "source": [
    "I was not expecting such good results with SVR."
   ]
  },
  {
   "cell_type": "markdown",
   "metadata": {},
   "source": [
    "this good result is due to the ability of SVR to take our data to a higher dimension. It is also considered a nonparametric technique because it relies on kernel functions."
   ]
  },
  {
   "cell_type": "markdown",
   "metadata": {},
   "source": [
    "DecisionTrees :"
   ]
  },
  {
   "cell_type": "code",
   "execution_count": 41,
   "metadata": {},
   "outputs": [
    {
     "name": "stdout",
     "output_type": "stream",
     "text": [
      "the MSE is : 0.355\n",
      "the R2 score is : 0.67\n"
     ]
    }
   ],
   "source": [
    "regressor = DecisionTreeRegressor(random_state = 0)\n",
    "regressor.fit(X_train, y_train)\n",
    "y_pred = regressor.predict(X_test)\n",
    "print('the MSE is :', round(mean_squared_error(y_pred,y_test),3))\n",
    "print('the R2 score is :', round(r2_score(y_pred,y_test),3))"
   ]
  },
  {
   "cell_type": "markdown",
   "metadata": {},
   "source": [
    "We get a decent score with decision trees."
   ]
  },
  {
   "cell_type": "markdown",
   "metadata": {},
   "source": [
    "Even though we do not get a very very good score due to the overfitting of decisiontrees, and their sensitivity to new data, we still get a decent score compared to linear regression."
   ]
  },
  {
   "cell_type": "markdown",
   "metadata": {},
   "source": [
    "However SVR is still the best algorithm so far."
   ]
  },
  {
   "cell_type": "markdown",
   "metadata": {},
   "source": [
    "Random Forest Regressor :"
   ]
  },
  {
   "cell_type": "code",
   "execution_count": 42,
   "metadata": {},
   "outputs": [
    {
     "name": "stdout",
     "output_type": "stream",
     "text": [
      "the MSE is : 0.183\n",
      "the R2 score is : 0.807\n"
     ]
    }
   ],
   "source": [
    "regressor = RandomForestRegressor(n_estimators = 400, random_state = 0)\n",
    "regressor.fit(X_train, y_train)\n",
    "y_pred = regressor.predict(X_test)\n",
    "print('the MSE is :', round(mean_squared_error(y_pred,y_test),3))\n",
    "print('the R2 score is :', round(r2_score(y_pred,y_test),3))"
   ]
  },
  {
   "cell_type": "markdown",
   "metadata": {},
   "source": [
    "We get a very very good result using RandomForest."
   ]
  },
  {
   "cell_type": "markdown",
   "metadata": {},
   "source": [
    "This was an expected result since random forest isn't sensitive to overfitting."
   ]
  },
  {
   "cell_type": "markdown",
   "metadata": {},
   "source": [
    "We can see that the best algorithm we can use with machine learning is : Random Forest Regression"
   ]
  },
  {
   "cell_type": "markdown",
   "metadata": {},
   "source": []
  },
  {
   "cell_type": "markdown",
   "metadata": {},
   "source": [
    "We try to now use some deeplearning on our model. Deeplearning isn't expected to do very well on small datasets like this one."
   ]
  },
  {
   "cell_type": "markdown",
   "metadata": {},
   "source": [
    "But for experimentation, I will implement a simple ANN network on this dataset :"
   ]
  },
  {
   "cell_type": "markdown",
   "metadata": {},
   "source": [
    "We import the libraries to build our model :"
   ]
  },
  {
   "cell_type": "code",
   "execution_count": 43,
   "metadata": {},
   "outputs": [],
   "source": [
    "from tensorflow.keras.models import Sequential\n",
    "from tensorflow.keras.layers import Dense,Dropout\n",
    "from tensorflow.keras.callbacks import EarlyStopping"
   ]
  },
  {
   "cell_type": "markdown",
   "metadata": {},
   "source": [
    "We create our model :"
   ]
  },
  {
   "cell_type": "markdown",
   "metadata": {},
   "source": [
    "We use dropout layers to prevent us from overfitting."
   ]
  },
  {
   "cell_type": "code",
   "execution_count": 46,
   "metadata": {},
   "outputs": [],
   "source": [
    "model=Sequential()\n",
    "\n",
    "model.add(Dense(56,activation='relu'))\n",
    "model.add(Dropout(0.2))\n",
    "model.add(Dense(30,activation='relu'))\n",
    "model.add(Dropout(0.2))\n",
    "model.add(Dense(19, activation='relu'))\n",
    "model.add(Dropout(0.2))\n",
    "model.add(Dense(1))\n",
    "\n",
    "model.compile(loss='mse', optimizer='adam')"
   ]
  },
  {
   "cell_type": "markdown",
   "metadata": {},
   "source": [
    "We implement an early_stopping to prevent overfitting"
   ]
  },
  {
   "cell_type": "code",
   "execution_count": 47,
   "metadata": {},
   "outputs": [],
   "source": [
    "early_stop=EarlyStopping(monitor='val_loss',mode='min',verbose=1,patience=10)"
   ]
  },
  {
   "cell_type": "markdown",
   "metadata": {},
   "source": [
    "We fit out model to our data :"
   ]
  },
  {
   "cell_type": "code",
   "execution_count": 48,
   "metadata": {},
   "outputs": [
    {
     "name": "stdout",
     "output_type": "stream",
     "text": [
      "Epoch 1/100\n",
      "37/37 [==============================] - 2s 13ms/step - loss: 6.5397 - val_loss: 0.7850\n",
      "Epoch 2/100\n",
      "37/37 [==============================] - 0s 4ms/step - loss: 2.0676 - val_loss: 0.7009\n",
      "Epoch 3/100\n",
      "37/37 [==============================] - 0s 4ms/step - loss: 1.6973 - val_loss: 0.5658\n",
      "Epoch 4/100\n",
      "37/37 [==============================] - 0s 4ms/step - loss: 1.4137 - val_loss: 0.4362\n",
      "Epoch 5/100\n",
      "37/37 [==============================] - 0s 4ms/step - loss: 1.2532 - val_loss: 0.4590\n",
      "Epoch 6/100\n",
      "37/37 [==============================] - 0s 4ms/step - loss: 1.2644 - val_loss: 0.4659\n",
      "Epoch 7/100\n",
      "37/37 [==============================] - 0s 4ms/step - loss: 1.1165 - val_loss: 0.3910\n",
      "Epoch 8/100\n",
      "37/37 [==============================] - 0s 4ms/step - loss: 1.0324 - val_loss: 0.3647\n",
      "Epoch 9/100\n",
      "37/37 [==============================] - 0s 4ms/step - loss: 0.9914 - val_loss: 0.3923\n",
      "Epoch 10/100\n",
      "37/37 [==============================] - 0s 4ms/step - loss: 0.9874 - val_loss: 0.2884\n",
      "Epoch 11/100\n",
      "37/37 [==============================] - 0s 4ms/step - loss: 0.9224 - val_loss: 0.2480\n",
      "Epoch 12/100\n",
      "37/37 [==============================] - 0s 4ms/step - loss: 0.9446 - val_loss: 0.3165\n",
      "Epoch 13/100\n",
      "37/37 [==============================] - 0s 4ms/step - loss: 0.9606 - val_loss: 0.3668\n",
      "Epoch 14/100\n",
      "37/37 [==============================] - 0s 4ms/step - loss: 0.8463 - val_loss: 0.2509\n",
      "Epoch 15/100\n",
      "37/37 [==============================] - 0s 4ms/step - loss: 0.8726 - val_loss: 0.3099\n",
      "Epoch 16/100\n",
      "37/37 [==============================] - 0s 4ms/step - loss: 0.8414 - val_loss: 0.3875\n",
      "Epoch 17/100\n",
      "37/37 [==============================] - 0s 4ms/step - loss: 0.8931 - val_loss: 0.2954\n",
      "Epoch 18/100\n",
      "37/37 [==============================] - 0s 4ms/step - loss: 0.7783 - val_loss: 0.2433\n",
      "Epoch 19/100\n",
      "37/37 [==============================] - 0s 4ms/step - loss: 0.7364 - val_loss: 0.2682\n",
      "Epoch 20/100\n",
      "37/37 [==============================] - 0s 4ms/step - loss: 0.7408 - val_loss: 0.3116\n",
      "Epoch 21/100\n",
      "37/37 [==============================] - 0s 4ms/step - loss: 0.7600 - val_loss: 0.2741\n",
      "Epoch 22/100\n",
      "37/37 [==============================] - 0s 4ms/step - loss: 0.7247 - val_loss: 0.3273\n",
      "Epoch 23/100\n",
      "37/37 [==============================] - 0s 4ms/step - loss: 0.7896 - val_loss: 0.2117\n",
      "Epoch 24/100\n",
      "37/37 [==============================] - 0s 4ms/step - loss: 0.6976 - val_loss: 0.2345\n",
      "Epoch 25/100\n",
      "37/37 [==============================] - 0s 4ms/step - loss: 0.7092 - val_loss: 0.2269\n",
      "Epoch 26/100\n",
      "37/37 [==============================] - 0s 4ms/step - loss: 0.7011 - val_loss: 0.2093\n",
      "Epoch 27/100\n",
      "37/37 [==============================] - 0s 4ms/step - loss: 0.6545 - val_loss: 0.2748\n",
      "Epoch 28/100\n",
      "37/37 [==============================] - 0s 4ms/step - loss: 0.6902 - val_loss: 0.2258\n",
      "Epoch 29/100\n",
      "37/37 [==============================] - 0s 4ms/step - loss: 0.6388 - val_loss: 0.2154\n",
      "Epoch 30/100\n",
      "37/37 [==============================] - 0s 4ms/step - loss: 0.6705 - val_loss: 0.2332\n",
      "Epoch 31/100\n",
      "37/37 [==============================] - 0s 4ms/step - loss: 0.6540 - val_loss: 0.2585\n",
      "Epoch 32/100\n",
      "37/37 [==============================] - 0s 4ms/step - loss: 0.6687 - val_loss: 0.2067\n",
      "Epoch 33/100\n",
      "37/37 [==============================] - 0s 4ms/step - loss: 0.6785 - val_loss: 0.2593\n",
      "Epoch 34/100\n",
      "37/37 [==============================] - 0s 4ms/step - loss: 0.6484 - val_loss: 0.2533\n",
      "Epoch 35/100\n",
      "37/37 [==============================] - 0s 3ms/step - loss: 0.6183 - val_loss: 0.2740\n",
      "Epoch 36/100\n",
      "37/37 [==============================] - 0s 4ms/step - loss: 0.6104 - val_loss: 0.2265\n",
      "Epoch 37/100\n",
      "37/37 [==============================] - 0s 4ms/step - loss: 0.5669 - val_loss: 0.2444\n",
      "Epoch 38/100\n",
      "37/37 [==============================] - 0s 4ms/step - loss: 0.6091 - val_loss: 0.2666\n",
      "Epoch 39/100\n",
      "37/37 [==============================] - 0s 4ms/step - loss: 0.6246 - val_loss: 0.2722\n",
      "Epoch 40/100\n",
      "37/37 [==============================] - 0s 4ms/step - loss: 0.6289 - val_loss: 0.2431\n",
      "Epoch 41/100\n",
      "37/37 [==============================] - 0s 4ms/step - loss: 0.5512 - val_loss: 0.2299\n",
      "Epoch 42/100\n",
      "37/37 [==============================] - 0s 4ms/step - loss: 0.5560 - val_loss: 0.2452\n",
      "Epoch 42: early stopping\n"
     ]
    },
    {
     "data": {
      "text/plain": [
       "<keras.callbacks.History at 0x1978eebe880>"
      ]
     },
     "execution_count": 48,
     "metadata": {},
     "output_type": "execute_result"
    }
   ],
   "source": [
    "model.fit(x=X_train,y=y_train,epochs=100,validation_data=(X_test, y_test),callbacks=[early_stop])"
   ]
  },
  {
   "cell_type": "code",
   "execution_count": 49,
   "metadata": {},
   "outputs": [],
   "source": [
    "losses= pd.DataFrame(model.history.history)"
   ]
  },
  {
   "cell_type": "code",
   "execution_count": 50,
   "metadata": {},
   "outputs": [
    {
     "data": {
      "text/plain": [
       "<AxesSubplot:>"
      ]
     },
     "execution_count": 50,
     "metadata": {},
     "output_type": "execute_result"
    },
    {
     "data": {
      "image/png": "[encoded data removed]",
      "text/plain": [
       "<Figure size 432x288 with 1 Axes>"
      ]
     },
     "metadata": {
      "needs_background": "light"
     },
     "output_type": "display_data"
    }
   ],
   "source": [
    "losses.plot()"
   ]
  },
  {
   "cell_type": "code",
   "execution_count": 51,
   "metadata": {},
   "outputs": [
    {
     "name": "stdout",
     "output_type": "stream",
     "text": [
      "13/13 [==============================] - 0s 2ms/step\n",
      "the MSE is : 0.245\n",
      "the R2 score is : 0.679\n"
     ]
    }
   ],
   "source": [
    "y_pred=model.predict(X_test)\n",
    "print('the MSE is :', round(mean_squared_error(y_pred,y_test),3))\n",
    "print('the R2 score is :', round(r2_score(y_pred,y_test),3))"
   ]
  },
  {
   "cell_type": "markdown",
   "metadata": {},
   "source": [
    "We can see that our deep learning Model did decently."
   ]
  },
  {
   "cell_type": "markdown",
   "metadata": {},
   "source": [
    "However it is expected that random forest and SVR would do much better, because for deep learning to work, we need very large datasets."
   ]
  }
 ],
 "metadata": {
  "kernelspec": {
   "display_name": "Python 3.9.12 ('base')",
   "language": "python",
   "name": "python3"
  },
  "language_info": {
   "codemirror_mode": {
    "name": "ipython",
    "version": 3
   },
   "file_extension": ".py",
   "mimetype": "text/x-python",
   "name": "python",
   "nbconvert_exporter": "python",
   "pygments_lexer": "ipython3",
   "version": "3.9.12"
  },
  "orig_nbformat": 4,
  "vscode": {
   "interpreter": {
    "hash": "04a834920b7def6fd20c473cd69d4248d5cd7791bb116f54149a6750c1f73918"
   }
  }
 },
 "nbformat": 4,
 "nbformat_minor": 2
}
