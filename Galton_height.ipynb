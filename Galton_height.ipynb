{
 "cells": [
  {
   "cell_type": "code",
   "execution_count": 1,
   "metadata": {},
   "outputs": [],
   "source": [
    "import pandas as pd\n",
    "import numpy as np\n",
    "import matplotlib.pyplot as plt\n",
    "import seaborn as sns"
   ]
  },
  {
   "cell_type": "code",
   "execution_count": 2,
   "metadata": {},
   "outputs": [],
   "source": [
    "df=pd.read_csv('Galtons Height Data.csv')"
   ]
  },
  {
   "cell_type": "code",
   "execution_count": 3,
   "metadata": {},
   "outputs": [
    {
     "data": {
      "text/plain": [
       "Family    0\n",
       "Father    0\n",
       "Mother    0\n",
       "Gender    0\n",
       "Height    0\n",
       "Kids      0\n",
       "dtype: int64"
      ]
     },
     "execution_count": 3,
     "metadata": {},
     "output_type": "execute_result"
    }
   ],
   "source": [
    "df.isnull().sum()"
   ]
  },
  {
   "cell_type": "code",
   "execution_count": 4,
   "metadata": {},
   "outputs": [],
   "source": [
    "df=df.drop('Kids',axis=1)\n",
    "df=df.drop('Family',axis=1)"
   ]
  },
  {
   "cell_type": "code",
   "execution_count": 5,
   "metadata": {},
   "outputs": [],
   "source": [
    "def gender_fix (let):\n",
    "    if let=='M':\n",
    "        return 1\n",
    "    else:\n",
    "         return 0"
   ]
  },
  {
   "cell_type": "code",
   "execution_count": 6,
   "metadata": {},
   "outputs": [],
   "source": [
    "df['Gender']=df['Gender'].apply(gender_fix)"
   ]
  },
  {
   "cell_type": "code",
   "execution_count": 7,
   "metadata": {},
   "outputs": [
    {
     "data": {
      "text/html": [
       "<div>\n",
       "<style scoped>\n",
       "    .dataframe tbody tr th:only-of-type {\n",
       "        vertical-align: middle;\n",
       "    }\n",
       "\n",
       "    .dataframe tbody tr th {\n",
       "        vertical-align: top;\n",
       "    }\n",
       "\n",
       "    .dataframe thead th {\n",
       "        text-align: right;\n",
       "    }\n",
       "</style>\n",
       "<table border=\"1\" class=\"dataframe\">\n",
       "  <thead>\n",
       "    <tr style=\"text-align: right;\">\n",
       "      <th></th>\n",
       "      <th>Father</th>\n",
       "      <th>Mother</th>\n",
       "      <th>Gender</th>\n",
       "      <th>Height</th>\n",
       "    </tr>\n",
       "  </thead>\n",
       "  <tbody>\n",
       "    <tr>\n",
       "      <th>0</th>\n",
       "      <td>78.5</td>\n",
       "      <td>67.0</td>\n",
       "      <td>1</td>\n",
       "      <td>73.2</td>\n",
       "    </tr>\n",
       "    <tr>\n",
       "      <th>1</th>\n",
       "      <td>78.5</td>\n",
       "      <td>67.0</td>\n",
       "      <td>0</td>\n",
       "      <td>69.2</td>\n",
       "    </tr>\n",
       "    <tr>\n",
       "      <th>2</th>\n",
       "      <td>78.5</td>\n",
       "      <td>67.0</td>\n",
       "      <td>0</td>\n",
       "      <td>69.0</td>\n",
       "    </tr>\n",
       "    <tr>\n",
       "      <th>3</th>\n",
       "      <td>78.5</td>\n",
       "      <td>67.0</td>\n",
       "      <td>0</td>\n",
       "      <td>69.0</td>\n",
       "    </tr>\n",
       "    <tr>\n",
       "      <th>4</th>\n",
       "      <td>75.5</td>\n",
       "      <td>66.5</td>\n",
       "      <td>1</td>\n",
       "      <td>73.5</td>\n",
       "    </tr>\n",
       "  </tbody>\n",
       "</table>\n",
       "</div>"
      ],
      "text/plain": [
       "   Father  Mother  Gender  Height\n",
       "0    78.5    67.0       1    73.2\n",
       "1    78.5    67.0       0    69.2\n",
       "2    78.5    67.0       0    69.0\n",
       "3    78.5    67.0       0    69.0\n",
       "4    75.5    66.5       1    73.5"
      ]
     },
     "execution_count": 7,
     "metadata": {},
     "output_type": "execute_result"
    }
   ],
   "source": [
    "df.head()"
   ]
  },
  {
   "cell_type": "code",
   "execution_count": 8,
   "metadata": {},
   "outputs": [
    {
     "data": {
      "text/html": [
       "<div>\n",
       "<style scoped>\n",
       "    .dataframe tbody tr th:only-of-type {\n",
       "        vertical-align: middle;\n",
       "    }\n",
       "\n",
       "    .dataframe tbody tr th {\n",
       "        vertical-align: top;\n",
       "    }\n",
       "\n",
       "    .dataframe thead th {\n",
       "        text-align: right;\n",
       "    }\n",
       "</style>\n",
       "<table border=\"1\" class=\"dataframe\">\n",
       "  <thead>\n",
       "    <tr style=\"text-align: right;\">\n",
       "      <th></th>\n",
       "      <th>Father</th>\n",
       "      <th>Mother</th>\n",
       "      <th>Gender</th>\n",
       "      <th>Height</th>\n",
       "    </tr>\n",
       "  </thead>\n",
       "  <tbody>\n",
       "    <tr>\n",
       "      <th>count</th>\n",
       "      <td>898.000000</td>\n",
       "      <td>898.000000</td>\n",
       "      <td>898.000000</td>\n",
       "      <td>898.000000</td>\n",
       "    </tr>\n",
       "    <tr>\n",
       "      <th>mean</th>\n",
       "      <td>69.232851</td>\n",
       "      <td>64.084410</td>\n",
       "      <td>0.517817</td>\n",
       "      <td>66.760690</td>\n",
       "    </tr>\n",
       "    <tr>\n",
       "      <th>std</th>\n",
       "      <td>2.470256</td>\n",
       "      <td>2.307025</td>\n",
       "      <td>0.499961</td>\n",
       "      <td>3.582918</td>\n",
       "    </tr>\n",
       "    <tr>\n",
       "      <th>min</th>\n",
       "      <td>62.000000</td>\n",
       "      <td>58.000000</td>\n",
       "      <td>0.000000</td>\n",
       "      <td>56.000000</td>\n",
       "    </tr>\n",
       "    <tr>\n",
       "      <th>25%</th>\n",
       "      <td>68.000000</td>\n",
       "      <td>63.000000</td>\n",
       "      <td>0.000000</td>\n",
       "      <td>64.000000</td>\n",
       "    </tr>\n",
       "    <tr>\n",
       "      <th>50%</th>\n",
       "      <td>69.000000</td>\n",
       "      <td>64.000000</td>\n",
       "      <td>1.000000</td>\n",
       "      <td>66.500000</td>\n",
       "    </tr>\n",
       "    <tr>\n",
       "      <th>75%</th>\n",
       "      <td>71.000000</td>\n",
       "      <td>65.500000</td>\n",
       "      <td>1.000000</td>\n",
       "      <td>69.700000</td>\n",
       "    </tr>\n",
       "    <tr>\n",
       "      <th>max</th>\n",
       "      <td>78.500000</td>\n",
       "      <td>70.500000</td>\n",
       "      <td>1.000000</td>\n",
       "      <td>79.000000</td>\n",
       "    </tr>\n",
       "  </tbody>\n",
       "</table>\n",
       "</div>"
      ],
      "text/plain": [
       "           Father      Mother      Gender      Height\n",
       "count  898.000000  898.000000  898.000000  898.000000\n",
       "mean    69.232851   64.084410    0.517817   66.760690\n",
       "std      2.470256    2.307025    0.499961    3.582918\n",
       "min     62.000000   58.000000    0.000000   56.000000\n",
       "25%     68.000000   63.000000    0.000000   64.000000\n",
       "50%     69.000000   64.000000    1.000000   66.500000\n",
       "75%     71.000000   65.500000    1.000000   69.700000\n",
       "max     78.500000   70.500000    1.000000   79.000000"
      ]
     },
     "execution_count": 8,
     "metadata": {},
     "output_type": "execute_result"
    }
   ],
   "source": [
    "df.describe()"
   ]
  },
  {
   "cell_type": "code",
   "execution_count": 9,
   "metadata": {},
   "outputs": [],
   "source": [
    "from tensorflow.keras.models import Sequential\n",
    "from tensorflow.keras.layers import Dense,Dropout"
   ]
  },
  {
   "cell_type": "code",
   "execution_count": 10,
   "metadata": {},
   "outputs": [],
   "source": [
    "from sklearn.model_selection import train_test_split\n",
    "from sklearn.preprocessing import MinMaxScaler"
   ]
  },
  {
   "cell_type": "code",
   "execution_count": 11,
   "metadata": {},
   "outputs": [],
   "source": [
    "X=df.drop('Height',axis=1).values\n",
    "y=df['Height'].values"
   ]
  },
  {
   "cell_type": "code",
   "execution_count": 12,
   "metadata": {},
   "outputs": [],
   "source": [
    "X_train, X_test, y_train, y_test =train_test_split(X, y, test_size=0.3, random_state=42)"
   ]
  },
  {
   "cell_type": "code",
   "execution_count": 13,
   "metadata": {},
   "outputs": [],
   "source": [
    "scaler=MinMaxScaler()"
   ]
  },
  {
   "cell_type": "code",
   "execution_count": 14,
   "metadata": {},
   "outputs": [],
   "source": [
    "X_train=scaler.fit_transform(X_train)"
   ]
  },
  {
   "cell_type": "code",
   "execution_count": 15,
   "metadata": {},
   "outputs": [],
   "source": [
    "X_test=scaler.transform(X_test)"
   ]
  },
  {
   "cell_type": "code",
   "execution_count": 16,
   "metadata": {},
   "outputs": [],
   "source": [
    "model= Sequential()\n",
    "\n",
    "model.add(Dense(6,activation='relu'))\n",
    "model.add(Dropout(0.2))\n",
    "model.add(Dense(12,activation='relu'))\n",
    "model.add(Dropout(0.2))\n",
    "\n",
    "model.add(Dense(1))\n"
   ]
  },
  {
   "cell_type": "code",
   "execution_count": 17,
   "metadata": {},
   "outputs": [],
   "source": [
    "model.compile(optimizer='adam',loss='mse')"
   ]
  },
  {
   "cell_type": "code",
   "execution_count": 18,
   "metadata": {},
   "outputs": [],
   "source": [
    "from tensorflow.keras.callbacks import EarlyStopping"
   ]
  },
  {
   "cell_type": "code",
   "execution_count": 19,
   "metadata": {},
   "outputs": [],
   "source": [
    "earlystop=EarlyStopping(patience=10,monitor=\"val_loss\",mode='min')"
   ]
  },
  {
   "cell_type": "code",
   "execution_count": 20,
   "metadata": {},
   "outputs": [
    {
     "name": "stdout",
     "output_type": "stream",
     "text": [
      "Epoch 1/200\n",
      "20/20 [==============================] - 1s 16ms/step - loss: 4483.6455 - val_loss: 4463.7090\n",
      "Epoch 2/200\n",
      "20/20 [==============================] - 0s 3ms/step - loss: 4473.3540 - val_loss: 4453.6890\n",
      "Epoch 3/200\n",
      "20/20 [==============================] - 0s 4ms/step - loss: 4463.3730 - val_loss: 4445.0039\n",
      "Epoch 4/200\n",
      "20/20 [==============================] - 0s 4ms/step - loss: 4454.9180 - val_loss: 4435.1030\n",
      "Epoch 5/200\n",
      "20/20 [==============================] - 0s 3ms/step - loss: 4443.5981 - val_loss: 4422.1753\n",
      "Epoch 6/200\n",
      "20/20 [==============================] - 0s 4ms/step - loss: 4429.5659 - val_loss: 4406.3701\n",
      "Epoch 7/200\n",
      "20/20 [==============================] - 0s 4ms/step - loss: 4412.6885 - val_loss: 4388.1997\n",
      "Epoch 8/200\n",
      "20/20 [==============================] - 0s 4ms/step - loss: 4393.5269 - val_loss: 4367.7993\n",
      "Epoch 9/200\n",
      "20/20 [==============================] - 0s 4ms/step - loss: 4372.1616 - val_loss: 4342.9219\n",
      "Epoch 10/200\n",
      "20/20 [==============================] - 0s 4ms/step - loss: 4342.5957 - val_loss: 4309.9058\n",
      "Epoch 11/200\n",
      "20/20 [==============================] - 0s 3ms/step - loss: 4305.4023 - val_loss: 4265.0205\n",
      "Epoch 12/200\n",
      "20/20 [==============================] - 0s 4ms/step - loss: 4256.5225 - val_loss: 4207.8428\n",
      "Epoch 13/200\n",
      "20/20 [==============================] - 0s 4ms/step - loss: 4196.9614 - val_loss: 4138.1670\n",
      "Epoch 14/200\n",
      "20/20 [==============================] - 0s 3ms/step - loss: 4109.6992 - val_loss: 4052.2385\n",
      "Epoch 15/200\n",
      "20/20 [==============================] - 0s 3ms/step - loss: 4016.0681 - val_loss: 3947.8694\n",
      "Epoch 16/200\n",
      "20/20 [==============================] - 0s 4ms/step - loss: 3905.8643 - val_loss: 3810.8706\n",
      "Epoch 17/200\n",
      "20/20 [==============================] - 0s 4ms/step - loss: 3755.3674 - val_loss: 3622.3579\n",
      "Epoch 18/200\n",
      "20/20 [==============================] - 0s 3ms/step - loss: 3510.9937 - val_loss: 3400.4719\n",
      "Epoch 19/200\n",
      "20/20 [==============================] - 0s 4ms/step - loss: 3314.6858 - val_loss: 3150.8271\n",
      "Epoch 20/200\n",
      "20/20 [==============================] - 0s 4ms/step - loss: 3031.6353 - val_loss: 2879.4268\n",
      "Epoch 21/200\n",
      "20/20 [==============================] - 0s 4ms/step - loss: 2785.1501 - val_loss: 2593.3582\n",
      "Epoch 22/200\n",
      "20/20 [==============================] - 0s 3ms/step - loss: 2530.3997 - val_loss: 2302.6943\n",
      "Epoch 23/200\n",
      "20/20 [==============================] - 0s 3ms/step - loss: 2230.8049 - val_loss: 2012.1870\n",
      "Epoch 24/200\n",
      "20/20 [==============================] - 0s 3ms/step - loss: 1917.5350 - val_loss: 1728.1722\n",
      "Epoch 25/200\n",
      "20/20 [==============================] - 0s 4ms/step - loss: 1696.2096 - val_loss: 1457.7328\n",
      "Epoch 26/200\n",
      "20/20 [==============================] - 0s 4ms/step - loss: 1472.2518 - val_loss: 1211.8694\n",
      "Epoch 27/200\n",
      "20/20 [==============================] - 0s 4ms/step - loss: 1288.0919 - val_loss: 989.2814\n",
      "Epoch 28/200\n",
      "20/20 [==============================] - 0s 4ms/step - loss: 1048.9835 - val_loss: 796.2952\n",
      "Epoch 29/200\n",
      "20/20 [==============================] - 0s 4ms/step - loss: 893.2647 - val_loss: 634.0968\n",
      "Epoch 30/200\n",
      "20/20 [==============================] - 0s 3ms/step - loss: 777.4543 - val_loss: 503.9259\n",
      "Epoch 31/200\n",
      "20/20 [==============================] - 0s 4ms/step - loss: 715.1949 - val_loss: 403.3572\n",
      "Epoch 32/200\n",
      "20/20 [==============================] - 0s 4ms/step - loss: 653.4913 - val_loss: 320.6413\n",
      "Epoch 33/200\n",
      "20/20 [==============================] - 0s 4ms/step - loss: 567.6756 - val_loss: 259.0557\n",
      "Epoch 34/200\n",
      "20/20 [==============================] - 0s 3ms/step - loss: 512.7056 - val_loss: 219.1692\n",
      "Epoch 35/200\n",
      "20/20 [==============================] - 0s 4ms/step - loss: 547.8069 - val_loss: 185.5177\n",
      "Epoch 36/200\n",
      "20/20 [==============================] - 0s 4ms/step - loss: 546.0920 - val_loss: 158.6096\n",
      "Epoch 37/200\n",
      "20/20 [==============================] - 0s 4ms/step - loss: 487.7281 - val_loss: 143.8120\n",
      "Epoch 38/200\n",
      "20/20 [==============================] - 0s 3ms/step - loss: 531.4937 - val_loss: 134.8679\n",
      "Epoch 39/200\n",
      "20/20 [==============================] - 0s 3ms/step - loss: 511.8011 - val_loss: 125.8620\n",
      "Epoch 40/200\n",
      "20/20 [==============================] - 0s 3ms/step - loss: 480.2924 - val_loss: 121.1073\n",
      "Epoch 41/200\n",
      "20/20 [==============================] - 0s 4ms/step - loss: 477.8714 - val_loss: 113.2130\n",
      "Epoch 42/200\n",
      "20/20 [==============================] - 0s 4ms/step - loss: 583.1694 - val_loss: 108.4432\n",
      "Epoch 43/200\n",
      "20/20 [==============================] - 0s 4ms/step - loss: 521.9869 - val_loss: 102.2147\n",
      "Epoch 44/200\n",
      "20/20 [==============================] - 0s 3ms/step - loss: 488.9287 - val_loss: 99.3036\n",
      "Epoch 45/200\n",
      "20/20 [==============================] - 0s 4ms/step - loss: 505.8991 - val_loss: 99.1647\n",
      "Epoch 46/200\n",
      "20/20 [==============================] - 0s 4ms/step - loss: 538.5969 - val_loss: 96.4902\n",
      "Epoch 47/200\n",
      "20/20 [==============================] - 0s 4ms/step - loss: 491.6050 - val_loss: 92.9848\n",
      "Epoch 48/200\n",
      "20/20 [==============================] - 0s 3ms/step - loss: 476.6288 - val_loss: 92.5759\n",
      "Epoch 49/200\n",
      "20/20 [==============================] - 0s 4ms/step - loss: 519.3787 - val_loss: 91.1984\n",
      "Epoch 50/200\n",
      "20/20 [==============================] - 0s 4ms/step - loss: 485.1102 - val_loss: 92.2959\n",
      "Epoch 51/200\n",
      "20/20 [==============================] - 0s 3ms/step - loss: 438.2333 - val_loss: 95.1848\n",
      "Epoch 52/200\n",
      "20/20 [==============================] - 0s 4ms/step - loss: 500.0485 - val_loss: 96.1110\n",
      "Epoch 53/200\n",
      "20/20 [==============================] - 0s 4ms/step - loss: 473.6418 - val_loss: 96.4314\n",
      "Epoch 54/200\n",
      "20/20 [==============================] - 0s 4ms/step - loss: 471.9399 - val_loss: 98.6850\n",
      "Epoch 55/200\n",
      "20/20 [==============================] - 0s 4ms/step - loss: 498.3808 - val_loss: 90.8539\n",
      "Epoch 56/200\n",
      "20/20 [==============================] - 0s 3ms/step - loss: 463.0568 - val_loss: 85.8350\n",
      "Epoch 57/200\n",
      "20/20 [==============================] - 0s 4ms/step - loss: 456.6537 - val_loss: 86.9421\n",
      "Epoch 58/200\n",
      "20/20 [==============================] - 0s 4ms/step - loss: 483.4384 - val_loss: 85.7625\n",
      "Epoch 59/200\n",
      "20/20 [==============================] - 0s 4ms/step - loss: 487.3777 - val_loss: 80.1874\n",
      "Epoch 60/200\n",
      "20/20 [==============================] - 0s 4ms/step - loss: 506.3857 - val_loss: 80.4007\n",
      "Epoch 61/200\n",
      "20/20 [==============================] - 0s 4ms/step - loss: 442.6341 - val_loss: 80.6801\n",
      "Epoch 62/200\n",
      "20/20 [==============================] - 0s 4ms/step - loss: 441.1559 - val_loss: 79.8096\n",
      "Epoch 63/200\n",
      "20/20 [==============================] - 0s 4ms/step - loss: 490.5171 - val_loss: 78.8815\n",
      "Epoch 64/200\n",
      "20/20 [==============================] - 0s 4ms/step - loss: 474.5866 - val_loss: 78.2304\n",
      "Epoch 65/200\n",
      "20/20 [==============================] - 0s 4ms/step - loss: 471.3155 - val_loss: 78.0199\n",
      "Epoch 66/200\n",
      "20/20 [==============================] - 0s 4ms/step - loss: 454.1715 - val_loss: 79.4872\n",
      "Epoch 67/200\n",
      "20/20 [==============================] - 0s 3ms/step - loss: 505.8396 - val_loss: 82.0872\n",
      "Epoch 68/200\n",
      "20/20 [==============================] - 0s 4ms/step - loss: 469.3658 - val_loss: 81.7658\n",
      "Epoch 69/200\n",
      "20/20 [==============================] - 0s 4ms/step - loss: 462.6207 - val_loss: 81.8003\n",
      "Epoch 70/200\n",
      "20/20 [==============================] - 0s 4ms/step - loss: 463.2167 - val_loss: 75.8782\n",
      "Epoch 71/200\n",
      "20/20 [==============================] - 0s 3ms/step - loss: 502.4970 - val_loss: 72.4289\n",
      "Epoch 72/200\n",
      "20/20 [==============================] - 0s 4ms/step - loss: 414.7451 - val_loss: 73.8547\n",
      "Epoch 73/200\n",
      "20/20 [==============================] - 0s 4ms/step - loss: 451.1808 - val_loss: 74.8159\n",
      "Epoch 74/200\n",
      "20/20 [==============================] - 0s 4ms/step - loss: 421.0318 - val_loss: 76.4743\n",
      "Epoch 75/200\n",
      "20/20 [==============================] - 0s 3ms/step - loss: 438.3004 - val_loss: 79.0300\n",
      "Epoch 76/200\n",
      "20/20 [==============================] - 0s 4ms/step - loss: 458.1646 - val_loss: 76.2018\n",
      "Epoch 77/200\n",
      "20/20 [==============================] - 0s 4ms/step - loss: 428.9563 - val_loss: 74.3074\n",
      "Epoch 78/200\n",
      "20/20 [==============================] - 0s 3ms/step - loss: 524.1261 - val_loss: 76.5220\n",
      "Epoch 79/200\n",
      "20/20 [==============================] - 0s 3ms/step - loss: 417.9173 - val_loss: 77.5422\n",
      "Epoch 80/200\n",
      "20/20 [==============================] - 0s 4ms/step - loss: 464.7243 - val_loss: 75.1596\n",
      "Epoch 81/200\n",
      "20/20 [==============================] - 0s 4ms/step - loss: 424.3711 - val_loss: 76.4336\n"
     ]
    },
    {
     "data": {
      "text/plain": [
       "<keras.callbacks.History at 0x20002e4eb50>"
      ]
     },
     "execution_count": 20,
     "metadata": {},
     "output_type": "execute_result"
    }
   ],
   "source": [
    "model.fit(x=X_train,y=y_train,epochs=200,validation_data=(X_test,y_test),callbacks=[earlystop])"
   ]
  },
  {
   "cell_type": "code",
   "execution_count": 21,
   "metadata": {},
   "outputs": [],
   "source": [
    "losses=pd.DataFrame(model.history.history)"
   ]
  },
  {
   "cell_type": "code",
   "execution_count": 22,
   "metadata": {},
   "outputs": [
    {
     "data": {
      "text/plain": [
       "<AxesSubplot:>"
      ]
     },
     "execution_count": 22,
     "metadata": {},
     "output_type": "execute_result"
    },
    {
     "data": {
      "image/png": "[encoded data removed]",
      "text/plain": [
       "<Figure size 432x288 with 1 Axes>"
      ]
     },
     "metadata": {
      "needs_background": "light"
     },
     "output_type": "display_data"
    }
   ],
   "source": [
    "losses.plot()"
   ]
  }
 ],
 "metadata": {
  "kernelspec": {
   "display_name": "Python 3.9.12 ('base')",
   "language": "python",
   "name": "python3"
  },
  "language_info": {
   "codemirror_mode": {
    "name": "ipython",
    "version": 3
   },
   "file_extension": ".py",
   "mimetype": "text/x-python",
   "name": "python",
   "nbconvert_exporter": "python",
   "pygments_lexer": "ipython3",
   "version": "3.9.12"
  },
  "orig_nbformat": 4,
  "vscode": {
   "interpreter": {
    "hash": "04a834920b7def6fd20c473cd69d4248d5cd7791bb116f54149a6750c1f73918"
   }
  }
 },
 "nbformat": 4,
 "nbformat_minor": 2
}
