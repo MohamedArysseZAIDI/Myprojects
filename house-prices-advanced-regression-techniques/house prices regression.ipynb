{
 "cells": [
  {
   "cell_type": "code",
   "execution_count": 1,
   "metadata": {},
   "outputs": [],
   "source": [
    "import numpy as np\n",
    "import pandas as pd\n",
    "import matplotlib.pyplot as plt\n",
    "import seaborn as sns"
   ]
  },
  {
   "cell_type": "code",
   "execution_count": 2,
   "metadata": {},
   "outputs": [],
   "source": [
    "df_train=pd.read_csv('train.csv')\n"
   ]
  },
  {
   "cell_type": "code",
   "execution_count": 3,
   "metadata": {},
   "outputs": [],
   "source": [
    "df_test=pd.read_csv('test.csv')"
   ]
  },
  {
   "cell_type": "code",
   "execution_count": 4,
   "metadata": {},
   "outputs": [
    {
     "name": "stdout",
     "output_type": "stream",
     "text": [
      "<class 'pandas.core.frame.DataFrame'>\n",
      "RangeIndex: 1460 entries, 0 to 1459\n",
      "Data columns (total 81 columns):\n",
      " #   Column         Non-Null Count  Dtype  \n",
      "---  ------         --------------  -----  \n",
      " 0   Id             1460 non-null   int64  \n",
      " 1   MSSubClass     1460 non-null   int64  \n",
      " 2   MSZoning       1460 non-null   object \n",
      " 3   LotFrontage    1201 non-null   float64\n",
      " 4   LotArea        1460 non-null   int64  \n",
      " 5   Street         1460 non-null   object \n",
      " 6   Alley          91 non-null     object \n",
      " 7   LotShape       1460 non-null   object \n",
      " 8   LandContour    1460 non-null   object \n",
      " 9   Utilities      1460 non-null   object \n",
      " 10  LotConfig      1460 non-null   object \n",
      " 11  LandSlope      1460 non-null   object \n",
      " 12  Neighborhood   1460 non-null   object \n",
      " 13  Condition1     1460 non-null   object \n",
      " 14  Condition2     1460 non-null   object \n",
      " 15  BldgType       1460 non-null   object \n",
      " 16  HouseStyle     1460 non-null   object \n",
      " 17  OverallQual    1460 non-null   int64  \n",
      " 18  OverallCond    1460 non-null   int64  \n",
      " 19  YearBuilt      1460 non-null   int64  \n",
      " 20  YearRemodAdd   1460 non-null   int64  \n",
      " 21  RoofStyle      1460 non-null   object \n",
      " 22  RoofMatl       1460 non-null   object \n",
      " 23  Exterior1st    1460 non-null   object \n",
      " 24  Exterior2nd    1460 non-null   object \n",
      " 25  MasVnrType     1452 non-null   object \n",
      " 26  MasVnrArea     1452 non-null   float64\n",
      " 27  ExterQual      1460 non-null   object \n",
      " 28  ExterCond      1460 non-null   object \n",
      " 29  Foundation     1460 non-null   object \n",
      " 30  BsmtQual       1423 non-null   object \n",
      " 31  BsmtCond       1423 non-null   object \n",
      " 32  BsmtExposure   1422 non-null   object \n",
      " 33  BsmtFinType1   1423 non-null   object \n",
      " 34  BsmtFinSF1     1460 non-null   int64  \n",
      " 35  BsmtFinType2   1422 non-null   object \n",
      " 36  BsmtFinSF2     1460 non-null   int64  \n",
      " 37  BsmtUnfSF      1460 non-null   int64  \n",
      " 38  TotalBsmtSF    1460 non-null   int64  \n",
      " 39  Heating        1460 non-null   object \n",
      " 40  HeatingQC      1460 non-null   object \n",
      " 41  CentralAir     1460 non-null   object \n",
      " 42  Electrical     1459 non-null   object \n",
      " 43  1stFlrSF       1460 non-null   int64  \n",
      " 44  2ndFlrSF       1460 non-null   int64  \n",
      " 45  LowQualFinSF   1460 non-null   int64  \n",
      " 46  GrLivArea      1460 non-null   int64  \n",
      " 47  BsmtFullBath   1460 non-null   int64  \n",
      " 48  BsmtHalfBath   1460 non-null   int64  \n",
      " 49  FullBath       1460 non-null   int64  \n",
      " 50  HalfBath       1460 non-null   int64  \n",
      " 51  BedroomAbvGr   1460 non-null   int64  \n",
      " 52  KitchenAbvGr   1460 non-null   int64  \n",
      " 53  KitchenQual    1460 non-null   object \n",
      " 54  TotRmsAbvGrd   1460 non-null   int64  \n",
      " 55  Functional     1460 non-null   object \n",
      " 56  Fireplaces     1460 non-null   int64  \n",
      " 57  FireplaceQu    770 non-null    object \n",
      " 58  GarageType     1379 non-null   object \n",
      " 59  GarageYrBlt    1379 non-null   float64\n",
      " 60  GarageFinish   1379 non-null   object \n",
      " 61  GarageCars     1460 non-null   int64  \n",
      " 62  GarageArea     1460 non-null   int64  \n",
      " 63  GarageQual     1379 non-null   object \n",
      " 64  GarageCond     1379 non-null   object \n",
      " 65  PavedDrive     1460 non-null   object \n",
      " 66  WoodDeckSF     1460 non-null   int64  \n",
      " 67  OpenPorchSF    1460 non-null   int64  \n",
      " 68  EnclosedPorch  1460 non-null   int64  \n",
      " 69  3SsnPorch      1460 non-null   int64  \n",
      " 70  ScreenPorch    1460 non-null   int64  \n",
      " 71  PoolArea       1460 non-null   int64  \n",
      " 72  PoolQC         7 non-null      object \n",
      " 73  Fence          281 non-null    object \n",
      " 74  MiscFeature    54 non-null     object \n",
      " 75  MiscVal        1460 non-null   int64  \n",
      " 76  MoSold         1460 non-null   int64  \n",
      " 77  YrSold         1460 non-null   int64  \n",
      " 78  SaleType       1460 non-null   object \n",
      " 79  SaleCondition  1460 non-null   object \n",
      " 80  SalePrice      1460 non-null   int64  \n",
      "dtypes: float64(3), int64(35), object(43)\n",
      "memory usage: 924.0+ KB\n"
     ]
    }
   ],
   "source": [
    "df_train.info(verbose=True)"
   ]
  },
  {
   "cell_type": "code",
   "execution_count": 5,
   "metadata": {},
   "outputs": [
    {
     "data": {
      "text/plain": [
       "PoolQC          99.588759\n",
       "MiscFeature     96.367375\n",
       "Alley           93.831391\n",
       "Fence           80.808773\n",
       "FireplaceQu     47.292666\n",
       "LotFrontage     17.751885\n",
       "GarageYrBlt      5.551748\n",
       "GarageCond       5.551748\n",
       "GarageType       5.551748\n",
       "GarageFinish     5.551748\n",
       "GarageQual       5.551748\n",
       "BsmtFinType2     2.604524\n",
       "BsmtExposure     2.604524\n",
       "BsmtQual         2.535984\n",
       "BsmtCond         2.535984\n",
       "BsmtFinType1     2.535984\n",
       "MasVnrArea       0.548321\n",
       "MasVnrType       0.548321\n",
       "Electrical       0.068540\n",
       "Id               0.000000\n",
       "Functional       0.000000\n",
       "dtype: float64"
      ]
     },
     "execution_count": 5,
     "metadata": {},
     "output_type": "execute_result"
    }
   ],
   "source": [
    "df_train.isnull().sum().sort_values(ascending=False).head(21)/(len(df_train)-1)*100"
   ]
  },
  {
   "cell_type": "code",
   "execution_count": 6,
   "metadata": {},
   "outputs": [],
   "source": [
    "df_train=df_train.drop(['PoolQC','MiscFeature','Alley','Fence','FireplaceQu'],axis=1)\n",
    "df_test=df_test.drop(['PoolQC','MiscFeature','Alley','Fence','FireplaceQu'],axis=1)"
   ]
  },
  {
   "cell_type": "code",
   "execution_count": null,
   "metadata": {},
   "outputs": [],
   "source": []
  },
  {
   "cell_type": "code",
   "execution_count": 7,
   "metadata": {},
   "outputs": [
    {
     "data": {
      "text/plain": [
       "LotFrontage     17.751885\n",
       "GarageType       5.551748\n",
       "GarageCond       5.551748\n",
       "GarageYrBlt      5.551748\n",
       "GarageFinish     5.551748\n",
       "GarageQual       5.551748\n",
       "BsmtFinType2     2.604524\n",
       "BsmtExposure     2.604524\n",
       "BsmtFinType1     2.535984\n",
       "BsmtCond         2.535984\n",
       "BsmtQual         2.535984\n",
       "MasVnrArea       0.548321\n",
       "MasVnrType       0.548321\n",
       "Electrical       0.068540\n",
       "PavedDrive       0.000000\n",
       "WoodDeckSF       0.000000\n",
       "LowQualFinSF     0.000000\n",
       "GrLivArea        0.000000\n",
       "BsmtFullBath     0.000000\n",
       "BsmtHalfBath     0.000000\n",
       "FullBath         0.000000\n",
       "dtype: float64"
      ]
     },
     "execution_count": 7,
     "metadata": {},
     "output_type": "execute_result"
    }
   ],
   "source": [
    "df_train.isnull().sum().sort_values(ascending=False).head(21)/(len(df_train)-1)*100"
   ]
  },
  {
   "cell_type": "code",
   "execution_count": 8,
   "metadata": {},
   "outputs": [
    {
     "data": {
      "text/plain": [
       "array([ 65.,  80.,  68.,  60.,  84.,  85.,  75.,  nan,  51.,  50.,  70.,\n",
       "        91.,  72.,  66., 101.,  57.,  44., 110.,  98.,  47., 108., 112.,\n",
       "        74., 115.,  61.,  48.,  33.,  52., 100.,  24.,  89.,  63.,  76.,\n",
       "        81.,  95.,  69.,  21.,  32.,  78., 121., 122.,  40., 105.,  73.,\n",
       "        77.,  64.,  94.,  34.,  90.,  55.,  88.,  82.,  71., 120., 107.,\n",
       "        92., 134.,  62.,  86., 141.,  97.,  54.,  41.,  79., 174.,  99.,\n",
       "        67.,  83.,  43., 103.,  93.,  30., 129., 140.,  35.,  37., 118.,\n",
       "        87., 116., 150., 111.,  49.,  96.,  59.,  36.,  56., 102.,  58.,\n",
       "        38., 109., 130.,  53., 137.,  45., 106., 104.,  42.,  39., 144.,\n",
       "       114., 128., 149., 313., 168., 182., 138., 160., 152., 124., 153.,\n",
       "        46.])"
      ]
     },
     "execution_count": 8,
     "metadata": {},
     "output_type": "execute_result"
    }
   ],
   "source": [
    "df_train['LotFrontage'].unique()"
   ]
  },
  {
   "cell_type": "code",
   "execution_count": 9,
   "metadata": {},
   "outputs": [
    {
     "data": {
      "text/plain": [
       "LotFrontage      1.000000\n",
       "1stFlrSF         0.457181\n",
       "LotArea          0.426095\n",
       "GrLivArea        0.402797\n",
       "TotalBsmtSF      0.392075\n",
       "TotRmsAbvGrd     0.352096\n",
       "SalePrice        0.351799\n",
       "GarageArea       0.344997\n",
       "GarageCars       0.285691\n",
       "Fireplaces       0.266639\n",
       "BedroomAbvGr     0.263170\n",
       "OverallQual      0.251646\n",
       "BsmtFinSF1       0.233633\n",
       "PoolArea         0.206167\n",
       "FullBath         0.198769\n",
       "MasVnrArea       0.193458\n",
       "OpenPorchSF      0.151972\n",
       "BsmtUnfSF        0.132644\n",
       "YearBuilt        0.123349\n",
       "BsmtFullBath     0.100949\n",
       "YearRemodAdd     0.088866\n",
       "WoodDeckSF       0.088521\n",
       "2ndFlrSF         0.080177\n",
       "GarageYrBlt      0.070250\n",
       "3SsnPorch        0.070029\n",
       "HalfBath         0.053532\n",
       "BsmtFinSF2       0.049900\n",
       "ScreenPorch      0.041383\n",
       "LowQualFinSF     0.038469\n",
       "MoSold           0.011200\n",
       "EnclosedPorch    0.010700\n",
       "YrSold           0.007450\n",
       "MiscVal          0.003368\n",
       "KitchenAbvGr    -0.006069\n",
       "BsmtHalfBath    -0.007234\n",
       "Id              -0.010601\n",
       "OverallCond     -0.059213\n",
       "MSSubClass      -0.386347\n",
       "Name: LotFrontage, dtype: float64"
      ]
     },
     "execution_count": 9,
     "metadata": {},
     "output_type": "execute_result"
    }
   ],
   "source": [
    "df_train.corr()['LotFrontage'].sort_values(ascending=False)"
   ]
  },
  {
   "cell_type": "code",
   "execution_count": 10,
   "metadata": {},
   "outputs": [
    {
     "data": {
      "text/plain": [
       "Index(['Id', 'MSSubClass', 'MSZoning', 'LotFrontage', 'LotArea', 'Street',\n",
       "       'LotShape', 'LandContour', 'Utilities', 'LotConfig', 'LandSlope',\n",
       "       'Neighborhood', 'Condition1', 'Condition2', 'BldgType', 'HouseStyle',\n",
       "       'OverallQual', 'OverallCond', 'YearBuilt', 'YearRemodAdd', 'RoofStyle',\n",
       "       'RoofMatl', 'Exterior1st', 'Exterior2nd', 'MasVnrType', 'MasVnrArea',\n",
       "       'ExterQual', 'ExterCond', 'Foundation', 'BsmtQual', 'BsmtCond',\n",
       "       'BsmtExposure', 'BsmtFinType1', 'BsmtFinSF1', 'BsmtFinType2',\n",
       "       'BsmtFinSF2', 'BsmtUnfSF', 'TotalBsmtSF', 'Heating', 'HeatingQC',\n",
       "       'CentralAir', 'Electrical', '1stFlrSF', '2ndFlrSF', 'LowQualFinSF',\n",
       "       'GrLivArea', 'BsmtFullBath', 'BsmtHalfBath', 'FullBath', 'HalfBath',\n",
       "       'BedroomAbvGr', 'KitchenAbvGr', 'KitchenQual', 'TotRmsAbvGrd',\n",
       "       'Functional', 'Fireplaces', 'GarageType', 'GarageYrBlt', 'GarageFinish',\n",
       "       'GarageCars', 'GarageArea', 'GarageQual', 'GarageCond', 'PavedDrive',\n",
       "       'WoodDeckSF', 'OpenPorchSF', 'EnclosedPorch', '3SsnPorch',\n",
       "       'ScreenPorch', 'PoolArea', 'MiscVal', 'MoSold', 'YrSold', 'SaleType',\n",
       "       'SaleCondition', 'SalePrice'],\n",
       "      dtype='object')"
      ]
     },
     "execution_count": 10,
     "metadata": {},
     "output_type": "execute_result"
    }
   ],
   "source": [
    "df_train.columns"
   ]
  },
  {
   "cell_type": "code",
   "execution_count": 11,
   "metadata": {},
   "outputs": [],
   "source": [
    "df_train['LotFrontage']=df_train['LotFrontage'].fillna(df_train['LotFrontage'].mean())\n",
    "df_test['LotFrontage']=df_test['LotFrontage'].fillna(df_test['LotFrontage'].mean())"
   ]
  },
  {
   "cell_type": "code",
   "execution_count": 12,
   "metadata": {},
   "outputs": [
    {
     "data": {
      "text/plain": [
       "GarageType      5.551748\n",
       "GarageYrBlt     5.551748\n",
       "GarageFinish    5.551748\n",
       "GarageQual      5.551748\n",
       "GarageCond      5.551748\n",
       "BsmtExposure    2.604524\n",
       "BsmtFinType2    2.604524\n",
       "BsmtQual        2.535984\n",
       "BsmtCond        2.535984\n",
       "BsmtFinType1    2.535984\n",
       "MasVnrType      0.548321\n",
       "MasVnrArea      0.548321\n",
       "Electrical      0.068540\n",
       "HalfBath        0.000000\n",
       "FullBath        0.000000\n",
       "BsmtHalfBath    0.000000\n",
       "BsmtFullBath    0.000000\n",
       "BedroomAbvGr    0.000000\n",
       "KitchenAbvGr    0.000000\n",
       "GrLivArea       0.000000\n",
       "LowQualFinSF    0.000000\n",
       "dtype: float64"
      ]
     },
     "execution_count": 12,
     "metadata": {},
     "output_type": "execute_result"
    }
   ],
   "source": [
    "df_train.isnull().sum().sort_values(ascending=False).head(21)/(len(df_train)-1)*100"
   ]
  },
  {
   "cell_type": "code",
   "execution_count": 13,
   "metadata": {},
   "outputs": [
    {
     "data": {
      "text/plain": [
       "array(['Attchd', 'Detchd', 'BuiltIn', 'CarPort', nan, 'Basment', '2Types'],\n",
       "      dtype=object)"
      ]
     },
     "execution_count": 13,
     "metadata": {},
     "output_type": "execute_result"
    }
   ],
   "source": [
    "df_train['GarageType'].unique()"
   ]
  },
  {
   "cell_type": "code",
   "execution_count": 14,
   "metadata": {},
   "outputs": [
    {
     "data": {
      "text/plain": [
       "GarageType\n",
       "BuiltIn    254751.738636\n",
       "Attchd     202892.656322\n",
       "Basment    160570.684211\n",
       "2Types     151283.333333\n",
       "Detchd     134091.162791\n",
       "CarPort    109962.111111\n",
       "Name: SalePrice, dtype: float64"
      ]
     },
     "execution_count": 14,
     "metadata": {},
     "output_type": "execute_result"
    }
   ],
   "source": [
    "df_train.groupby('GarageType').mean()['SalePrice'].sort_values(ascending=False)"
   ]
  },
  {
   "cell_type": "code",
   "execution_count": 15,
   "metadata": {},
   "outputs": [
    {
     "data": {
      "text/plain": [
       "Attchd     870\n",
       "Detchd     387\n",
       "BuiltIn     88\n",
       "Basment     19\n",
       "CarPort      9\n",
       "2Types       6\n",
       "Name: GarageType, dtype: int64"
      ]
     },
     "execution_count": 15,
     "metadata": {},
     "output_type": "execute_result"
    }
   ],
   "source": [
    "df_train['GarageType'].value_counts()"
   ]
  },
  {
   "cell_type": "code",
   "execution_count": 16,
   "metadata": {},
   "outputs": [
    {
     "data": {
      "text/plain": [
       "GarageType\n",
       "BuiltIn    254751.738636\n",
       "Attchd     202892.656322\n",
       "Basment    160570.684211\n",
       "2Types     151283.333333\n",
       "Detchd     134091.162791\n",
       "CarPort    109962.111111\n",
       "Name: SalePrice, dtype: float64"
      ]
     },
     "execution_count": 16,
     "metadata": {},
     "output_type": "execute_result"
    }
   ],
   "source": [
    "df_train.groupby('GarageType')['SalePrice'].mean().sort_values(ascending=False)"
   ]
  },
  {
   "cell_type": "code",
   "execution_count": 17,
   "metadata": {},
   "outputs": [
    {
     "data": {
      "text/plain": [
       "<AxesSubplot:xlabel='GarageType', ylabel='SalePrice'>"
      ]
     },
     "execution_count": 17,
     "metadata": {},
     "output_type": "execute_result"
    },
    {
     "data": {
      "image/png": "[encoded data removed]",
      "text/plain": [
       "<Figure size 432x288 with 1 Axes>"
      ]
     },
     "metadata": {
      "needs_background": "light"
     },
     "output_type": "display_data"
    }
   ],
   "source": [
    "sns.boxplot(x='GarageType',y='SalePrice',data=df_train)"
   ]
  },
  {
   "cell_type": "code",
   "execution_count": 18,
   "metadata": {},
   "outputs": [],
   "source": [
    "df_train['GarageType']=df_train['GarageType'].fillna(df_train['GarageType'].mode()[0])\n",
    "df_test['GarageType']=df_test['GarageType'].fillna(df_test['GarageType'].mode()[0])"
   ]
  },
  {
   "cell_type": "code",
   "execution_count": 19,
   "metadata": {},
   "outputs": [
    {
     "data": {
      "text/plain": [
       "GarageYrBlt     5.551748\n",
       "GarageFinish    5.551748\n",
       "GarageQual      5.551748\n",
       "GarageCond      5.551748\n",
       "BsmtExposure    2.604524\n",
       "BsmtFinType2    2.604524\n",
       "BsmtFinType1    2.535984\n",
       "BsmtQual        2.535984\n",
       "BsmtCond        2.535984\n",
       "MasVnrArea      0.548321\n",
       "MasVnrType      0.548321\n",
       "Electrical      0.068540\n",
       "TotRmsAbvGrd    0.000000\n",
       "HalfBath        0.000000\n",
       "FullBath        0.000000\n",
       "BsmtHalfBath    0.000000\n",
       "BsmtFullBath    0.000000\n",
       "BedroomAbvGr    0.000000\n",
       "KitchenAbvGr    0.000000\n",
       "GrLivArea       0.000000\n",
       "LowQualFinSF    0.000000\n",
       "dtype: float64"
      ]
     },
     "execution_count": 19,
     "metadata": {},
     "output_type": "execute_result"
    }
   ],
   "source": [
    "df_train.isnull().sum().sort_values(ascending=False).head(21)/(len(df_train)-1)*100"
   ]
  },
  {
   "cell_type": "code",
   "execution_count": 20,
   "metadata": {},
   "outputs": [
    {
     "data": {
      "text/plain": [
       "0       2003.0\n",
       "1       1976.0\n",
       "2       2001.0\n",
       "3       1998.0\n",
       "4       2000.0\n",
       "         ...  \n",
       "1455    1999.0\n",
       "1456    1978.0\n",
       "1457    1941.0\n",
       "1458    1950.0\n",
       "1459    1965.0\n",
       "Name: GarageYrBlt, Length: 1460, dtype: float64"
      ]
     },
     "execution_count": 20,
     "metadata": {},
     "output_type": "execute_result"
    }
   ],
   "source": [
    "df_train['GarageYrBlt']"
   ]
  },
  {
   "cell_type": "code",
   "execution_count": 21,
   "metadata": {},
   "outputs": [
    {
     "data": {
      "text/plain": [
       "<AxesSubplot:xlabel='GarageYrBlt', ylabel='SalePrice'>"
      ]
     },
     "execution_count": 21,
     "metadata": {},
     "output_type": "execute_result"
    },
    {
     "data": {
      "image/png": "[encoded data removed]",
      "text/plain": [
       "<Figure size 432x288 with 1 Axes>"
      ]
     },
     "metadata": {
      "needs_background": "light"
     },
     "output_type": "display_data"
    }
   ],
   "source": [
    "sns.scatterplot(x='GarageYrBlt',y='SalePrice',data=df_train,edgecolor=None,alpha=0.7)"
   ]
  },
  {
   "cell_type": "code",
   "execution_count": 22,
   "metadata": {},
   "outputs": [
    {
     "data": {
      "text/plain": [
       "GarageYrBlt      1.000000\n",
       "YearBuilt        0.825667\n",
       "YearRemodAdd     0.642277\n",
       "GarageCars       0.588920\n",
       "GarageArea       0.564567\n",
       "OverallQual      0.547766\n",
       "SalePrice        0.486362\n",
       "FullBath         0.484557\n",
       "TotalBsmtSF      0.322445\n",
       "MasVnrArea       0.252691\n",
       "1stFlrSF         0.233449\n",
       "GrLivArea        0.231197\n",
       "OpenPorchSF      0.228425\n",
       "WoodDeckSF       0.224577\n",
       "HalfBath         0.196785\n",
       "BsmtUnfSF        0.190708\n",
       "BsmtFinSF1       0.153484\n",
       "TotRmsAbvGrd     0.148112\n",
       "BsmtFullBath     0.124553\n",
       "MSSubClass       0.085072\n",
       "2ndFlrSF         0.070832\n",
       "LotFrontage      0.066463\n",
       "Fireplaces       0.046822\n",
       "3SsnPorch        0.023544\n",
       "MoSold           0.005337\n",
       "Id               0.000072\n",
       "YrSold          -0.001014\n",
       "PoolArea        -0.014501\n",
       "LotArea         -0.024947\n",
       "MiscVal         -0.032417\n",
       "LowQualFinSF    -0.036363\n",
       "BedroomAbvGr    -0.064518\n",
       "ScreenPorch     -0.075418\n",
       "BsmtHalfBath    -0.077464\n",
       "BsmtFinSF2      -0.088011\n",
       "KitchenAbvGr    -0.124411\n",
       "EnclosedPorch   -0.297003\n",
       "OverallCond     -0.324297\n",
       "Name: GarageYrBlt, dtype: float64"
      ]
     },
     "execution_count": 22,
     "metadata": {},
     "output_type": "execute_result"
    }
   ],
   "source": [
    "df_train.corr()['GarageYrBlt'].sort_values(ascending=False)"
   ]
  },
  {
   "cell_type": "code",
   "execution_count": 23,
   "metadata": {},
   "outputs": [],
   "source": [
    "df_train=df_train.drop('GarageYrBlt',axis=1)\n",
    "df_test=df_test.drop('GarageYrBlt',axis=1)"
   ]
  },
  {
   "cell_type": "code",
   "execution_count": 24,
   "metadata": {},
   "outputs": [
    {
     "data": {
      "text/plain": [
       "GarageFinish    5.551748\n",
       "GarageQual      5.551748\n",
       "GarageCond      5.551748\n",
       "BsmtFinType2    2.604524\n",
       "BsmtExposure    2.604524\n",
       "BsmtCond        2.535984\n",
       "BsmtFinType1    2.535984\n",
       "BsmtQual        2.535984\n",
       "MasVnrArea      0.548321\n",
       "MasVnrType      0.548321\n",
       "Electrical      0.068540\n",
       "FullBath        0.000000\n",
       "KitchenQual     0.000000\n",
       "BsmtHalfBath    0.000000\n",
       "HalfBath        0.000000\n",
       "BsmtFullBath    0.000000\n",
       "GrLivArea       0.000000\n",
       "BedroomAbvGr    0.000000\n",
       "KitchenAbvGr    0.000000\n",
       "LowQualFinSF    0.000000\n",
       "2ndFlrSF        0.000000\n",
       "dtype: float64"
      ]
     },
     "execution_count": 24,
     "metadata": {},
     "output_type": "execute_result"
    }
   ],
   "source": [
    "df_train.isnull().sum().sort_values(ascending=False).head(21)/(len(df_train)-1)*100"
   ]
  },
  {
   "cell_type": "code",
   "execution_count": 25,
   "metadata": {},
   "outputs": [
    {
     "data": {
      "text/plain": [
       "Unf    605\n",
       "RFn    422\n",
       "Fin    352\n",
       "Name: GarageFinish, dtype: int64"
      ]
     },
     "execution_count": 25,
     "metadata": {},
     "output_type": "execute_result"
    }
   ],
   "source": [
    "df_train['GarageFinish'].value_counts()"
   ]
  },
  {
   "cell_type": "markdown",
   "metadata": {},
   "source": [
    "The null values are just no garage"
   ]
  },
  {
   "cell_type": "code",
   "execution_count": 26,
   "metadata": {},
   "outputs": [],
   "source": [
    "df_train[['GarageFinish','GarageQual','GarageCond']] = df_train[['GarageFinish','GarageQual','GarageCond']].fillna(value='None')\n",
    "df_test[['GarageFinish','GarageQual','GarageCond']] = df_test[['GarageFinish','GarageQual','GarageCond']].fillna(value='None')"
   ]
  },
  {
   "cell_type": "code",
   "execution_count": 27,
   "metadata": {},
   "outputs": [
    {
     "data": {
      "text/plain": [
       "BsmtExposure    2.604524\n",
       "BsmtFinType2    2.604524\n",
       "BsmtQual        2.535984\n",
       "BsmtCond        2.535984\n",
       "BsmtFinType1    2.535984\n",
       "MasVnrType      0.548321\n",
       "MasVnrArea      0.548321\n",
       "Electrical      0.068540\n",
       "FullBath        0.000000\n",
       "BsmtHalfBath    0.000000\n",
       "Functional      0.000000\n",
       "BsmtFullBath    0.000000\n",
       "GrLivArea       0.000000\n",
       "HalfBath        0.000000\n",
       "BedroomAbvGr    0.000000\n",
       "KitchenAbvGr    0.000000\n",
       "LowQualFinSF    0.000000\n",
       "2ndFlrSF        0.000000\n",
       "KitchenQual     0.000000\n",
       "TotRmsAbvGrd    0.000000\n",
       "Id              0.000000\n",
       "dtype: float64"
      ]
     },
     "execution_count": 27,
     "metadata": {},
     "output_type": "execute_result"
    }
   ],
   "source": [
    "df_train.isnull().sum().sort_values(ascending=False).head(21)/(len(df_train)-1)*100"
   ]
  },
  {
   "cell_type": "code",
   "execution_count": 28,
   "metadata": {},
   "outputs": [
    {
     "data": {
      "text/plain": [
       "TA      1311\n",
       "None      81\n",
       "Fa        48\n",
       "Gd        14\n",
       "Ex         3\n",
       "Po         3\n",
       "Name: GarageQual, dtype: int64"
      ]
     },
     "execution_count": 28,
     "metadata": {},
     "output_type": "execute_result"
    }
   ],
   "source": [
    "df_train['GarageQual'].value_counts()"
   ]
  },
  {
   "cell_type": "code",
   "execution_count": 29,
   "metadata": {},
   "outputs": [],
   "source": [
    "df_train[['BsmtExposure','BsmtFinType2','BsmtQual','BsmtCond','BsmtFinType1']] = df_train[['BsmtExposure','BsmtFinType2','BsmtQual','BsmtCond','BsmtFinType1']].fillna(value='None')\n",
    "df_test[['BsmtExposure','BsmtFinType2','BsmtQual','BsmtCond','BsmtFinType1']] = df_test[['BsmtExposure','BsmtFinType2','BsmtQual','BsmtCond','BsmtFinType1']].fillna(value='None')"
   ]
  },
  {
   "cell_type": "code",
   "execution_count": 30,
   "metadata": {},
   "outputs": [
    {
     "data": {
      "text/plain": [
       "MasVnrType      0.548321\n",
       "MasVnrArea      0.548321\n",
       "Electrical      0.068540\n",
       "Id              0.000000\n",
       "HalfBath        0.000000\n",
       "Functional      0.000000\n",
       "TotRmsAbvGrd    0.000000\n",
       "KitchenQual     0.000000\n",
       "KitchenAbvGr    0.000000\n",
       "BedroomAbvGr    0.000000\n",
       "FullBath        0.000000\n",
       "HeatingQC       0.000000\n",
       "BsmtHalfBath    0.000000\n",
       "BsmtFullBath    0.000000\n",
       "GrLivArea       0.000000\n",
       "LowQualFinSF    0.000000\n",
       "2ndFlrSF        0.000000\n",
       "1stFlrSF        0.000000\n",
       "Fireplaces      0.000000\n",
       "GarageType      0.000000\n",
       "GarageFinish    0.000000\n",
       "dtype: float64"
      ]
     },
     "execution_count": 30,
     "metadata": {},
     "output_type": "execute_result"
    }
   ],
   "source": [
    "df_train.isnull().sum().sort_values(ascending=False).head(21)/(len(df_train)-1)*100"
   ]
  },
  {
   "cell_type": "code",
   "execution_count": 31,
   "metadata": {},
   "outputs": [
    {
     "data": {
      "text/plain": [
       "array(['BrkFace', 'None', 'Stone', 'BrkCmn', nan], dtype=object)"
      ]
     },
     "execution_count": 31,
     "metadata": {},
     "output_type": "execute_result"
    }
   ],
   "source": [
    "df_train['MasVnrType'].unique()"
   ]
  },
  {
   "cell_type": "code",
   "execution_count": 32,
   "metadata": {},
   "outputs": [
    {
     "data": {
      "text/plain": [
       "None       864\n",
       "BrkFace    445\n",
       "Stone      128\n",
       "BrkCmn      15\n",
       "Name: MasVnrType, dtype: int64"
      ]
     },
     "execution_count": 32,
     "metadata": {},
     "output_type": "execute_result"
    }
   ],
   "source": [
    "df_train['MasVnrType'].value_counts()"
   ]
  },
  {
   "cell_type": "code",
   "execution_count": 33,
   "metadata": {},
   "outputs": [],
   "source": [
    "df_train['MasVnrType']=df_train['MasVnrType'].fillna(df_train['MasVnrType'].mode()[0])\n",
    "df_test['MasVnrType']=df_test['MasVnrType'].fillna(df_test['MasVnrType'].mode()[0])"
   ]
  },
  {
   "cell_type": "code",
   "execution_count": 34,
   "metadata": {},
   "outputs": [],
   "source": [
    "df_train=df_train.dropna()\n",
    "df_test=df_test.dropna()"
   ]
  },
  {
   "cell_type": "code",
   "execution_count": 35,
   "metadata": {},
   "outputs": [
    {
     "data": {
      "text/plain": [
       "(1451, 75)"
      ]
     },
     "execution_count": 35,
     "metadata": {},
     "output_type": "execute_result"
    }
   ],
   "source": [
    "df_train.shape"
   ]
  },
  {
   "cell_type": "code",
   "execution_count": 36,
   "metadata": {},
   "outputs": [
    {
     "data": {
      "text/plain": [
       "(1432, 74)"
      ]
     },
     "execution_count": 36,
     "metadata": {},
     "output_type": "execute_result"
    }
   ],
   "source": [
    "df_test.shape"
   ]
  },
  {
   "cell_type": "code",
   "execution_count": 37,
   "metadata": {},
   "outputs": [
    {
     "data": {
      "text/plain": [
       "Id            0\n",
       "GarageType    0\n",
       "dtype: int64"
      ]
     },
     "execution_count": 37,
     "metadata": {},
     "output_type": "execute_result"
    }
   ],
   "source": [
    "df_train.isnull().sum().sort_values(ascending=False).head(2)"
   ]
  },
  {
   "cell_type": "markdown",
   "metadata": {},
   "source": [
    "Now we are done with NULL Values, now we need to deal with categorical columns"
   ]
  },
  {
   "cell_type": "code",
   "execution_count": 38,
   "metadata": {},
   "outputs": [],
   "source": [
    "df_train=df_train.drop('Id',axis=1)\n",
    "df_test=df_test.drop('Id',axis=1)"
   ]
  },
  {
   "cell_type": "code",
   "execution_count": 39,
   "metadata": {},
   "outputs": [
    {
     "data": {
      "text/plain": [
       "array([ 2,  5,  9, 12, 10,  8, 11,  4,  1,  7,  3,  6], dtype=int64)"
      ]
     },
     "execution_count": 39,
     "metadata": {},
     "output_type": "execute_result"
    }
   ],
   "source": [
    "df_train['MoSold'].unique()"
   ]
  },
  {
   "cell_type": "code",
   "execution_count": 40,
   "metadata": {},
   "outputs": [
    {
     "data": {
      "text/plain": [
       "<AxesSubplot:xlabel='MoSold', ylabel='SalePrice'>"
      ]
     },
     "execution_count": 40,
     "metadata": {},
     "output_type": "execute_result"
    },
    {
     "data": {
      "image/png": "[encoded data removed]",
      "text/plain": [
       "<Figure size 432x288 with 1 Axes>"
      ]
     },
     "metadata": {
      "needs_background": "light"
     },
     "output_type": "display_data"
    }
   ],
   "source": [
    "sns.boxplot(x='MoSold',y='SalePrice',data=df_train)"
   ]
  },
  {
   "cell_type": "code",
   "execution_count": 41,
   "metadata": {},
   "outputs": [],
   "source": [
    "df_train=df_train.drop('MoSold',axis=1)\n",
    "df_test=df_test.drop('MoSold',axis=1)"
   ]
  },
  {
   "cell_type": "code",
   "execution_count": 42,
   "metadata": {},
   "outputs": [
    {
     "data": {
      "text/plain": [
       "<AxesSubplot:xlabel='YrSold', ylabel='SalePrice'>"
      ]
     },
     "execution_count": 42,
     "metadata": {},
     "output_type": "execute_result"
    },
    {
     "data": {
      "image/png": "[encoded data removed]",
      "text/plain": [
       "<Figure size 432x288 with 1 Axes>"
      ]
     },
     "metadata": {
      "needs_background": "light"
     },
     "output_type": "display_data"
    }
   ],
   "source": [
    "sns.boxplot(x='YrSold',y='SalePrice',data=df_train)"
   ]
  },
  {
   "cell_type": "code",
   "execution_count": 43,
   "metadata": {},
   "outputs": [
    {
     "data": {
      "text/plain": [
       "YrSold\n",
       "2006    181647.060703\n",
       "2007    185976.308869\n",
       "2008    177084.150000\n",
       "2009    179415.878338\n",
       "2010    177168.925287\n",
       "Name: SalePrice, dtype: float64"
      ]
     },
     "execution_count": 43,
     "metadata": {},
     "output_type": "execute_result"
    }
   ],
   "source": [
    "df_train.groupby('YrSold').mean()['SalePrice']"
   ]
  },
  {
   "cell_type": "code",
   "execution_count": 44,
   "metadata": {},
   "outputs": [],
   "source": [
    "df_train=df_train.drop('YrSold',axis=1)\n",
    "df_test=df_test.drop('YrSold',axis=1)"
   ]
  },
  {
   "cell_type": "code",
   "execution_count": 45,
   "metadata": {},
   "outputs": [
    {
     "data": {
      "text/plain": [
       "2    816\n",
       "1    369\n",
       "3    180\n",
       "0     81\n",
       "4      5\n",
       "Name: GarageCars, dtype: int64"
      ]
     },
     "execution_count": 45,
     "metadata": {},
     "output_type": "execute_result"
    }
   ],
   "source": [
    "df_train['GarageCars'].value_counts()"
   ]
  },
  {
   "cell_type": "code",
   "execution_count": 46,
   "metadata": {},
   "outputs": [
    {
     "data": {
      "text/plain": [
       "0.8824696531998583"
      ]
     },
     "execution_count": 46,
     "metadata": {},
     "output_type": "execute_result"
    }
   ],
   "source": [
    "df_train.corr()['GarageCars']['GarageArea']"
   ]
  },
  {
   "cell_type": "code",
   "execution_count": 47,
   "metadata": {},
   "outputs": [],
   "source": [
    "df_train=df_train.drop('GarageCars',axis=1)\n",
    "df_test=df_test.drop('GarageCars',axis=1)"
   ]
  },
  {
   "cell_type": "code",
   "execution_count": 48,
   "metadata": {},
   "outputs": [
    {
     "data": {
      "text/plain": [
       "0          0\n",
       "1          0\n",
       "2          0\n",
       "3          0\n",
       "4          0\n",
       "        ... \n",
       "1455       0\n",
       "1456       0\n",
       "1457    2500\n",
       "1458       0\n",
       "1459       0\n",
       "Name: MiscVal, Length: 1451, dtype: int64"
      ]
     },
     "execution_count": 48,
     "metadata": {},
     "output_type": "execute_result"
    }
   ],
   "source": [
    "df_train['MiscVal']"
   ]
  },
  {
   "cell_type": "code",
   "execution_count": 49,
   "metadata": {},
   "outputs": [
    {
     "data": {
      "text/plain": [
       "<AxesSubplot:xlabel='SaleCondition', ylabel='SalePrice'>"
      ]
     },
     "execution_count": 49,
     "metadata": {},
     "output_type": "execute_result"
    },
    {
     "data": {
      "image/png": "[encoded data removed]",
      "text/plain": [
       "<Figure size 432x288 with 1 Axes>"
      ]
     },
     "metadata": {
      "needs_background": "light"
     },
     "output_type": "display_data"
    }
   ],
   "source": [
    "sns.boxplot(x='SaleCondition',y='SalePrice',data=df_train)"
   ]
  },
  {
   "cell_type": "code",
   "execution_count": 50,
   "metadata": {},
   "outputs": [
    {
     "data": {
      "text/plain": [
       "(1451, 71)"
      ]
     },
     "execution_count": 50,
     "metadata": {},
     "output_type": "execute_result"
    }
   ],
   "source": [
    "df_train.shape"
   ]
  },
  {
   "cell_type": "code",
   "execution_count": 51,
   "metadata": {},
   "outputs": [
    {
     "data": {
      "text/plain": [
       "(1432, 70)"
      ]
     },
     "execution_count": 51,
     "metadata": {},
     "output_type": "execute_result"
    }
   ],
   "source": [
    "df_test.shape"
   ]
  },
  {
   "cell_type": "code",
   "execution_count": 52,
   "metadata": {},
   "outputs": [],
   "source": [
    "from sklearn import preprocessing\n",
    "from sklearn.preprocessing import LabelEncoder\n"
   ]
  },
  {
   "cell_type": "code",
   "execution_count": 53,
   "metadata": {},
   "outputs": [],
   "source": [
    "le=LabelEncoder()"
   ]
  },
  {
   "cell_type": "code",
   "execution_count": null,
   "metadata": {},
   "outputs": [],
   "source": []
  },
  {
   "cell_type": "code",
   "execution_count": 54,
   "metadata": {},
   "outputs": [
    {
     "data": {
      "text/plain": [
       "Index(['MSSubClass', 'MSZoning', 'LotFrontage', 'LotArea', 'Street',\n",
       "       'LotShape', 'LandContour', 'Utilities', 'LotConfig', 'LandSlope',\n",
       "       'Neighborhood', 'Condition1', 'Condition2', 'BldgType', 'HouseStyle',\n",
       "       'OverallQual', 'OverallCond', 'YearBuilt', 'YearRemodAdd', 'RoofStyle',\n",
       "       'RoofMatl', 'Exterior1st', 'Exterior2nd', 'MasVnrType', 'MasVnrArea',\n",
       "       'ExterQual', 'ExterCond', 'Foundation', 'BsmtQual', 'BsmtCond',\n",
       "       'BsmtExposure', 'BsmtFinType1', 'BsmtFinSF1', 'BsmtFinType2',\n",
       "       'BsmtFinSF2', 'BsmtUnfSF', 'TotalBsmtSF', 'Heating', 'HeatingQC',\n",
       "       'CentralAir', 'Electrical', '1stFlrSF', '2ndFlrSF', 'LowQualFinSF',\n",
       "       'GrLivArea', 'BsmtFullBath', 'BsmtHalfBath', 'FullBath', 'HalfBath',\n",
       "       'BedroomAbvGr', 'KitchenAbvGr', 'KitchenQual', 'TotRmsAbvGrd',\n",
       "       'Functional', 'Fireplaces', 'GarageType', 'GarageFinish', 'GarageArea',\n",
       "       'GarageQual', 'GarageCond', 'PavedDrive', 'WoodDeckSF', 'OpenPorchSF',\n",
       "       'EnclosedPorch', '3SsnPorch', 'ScreenPorch', 'PoolArea', 'MiscVal',\n",
       "       'SaleType', 'SaleCondition', 'SalePrice'],\n",
       "      dtype='object')"
      ]
     },
     "execution_count": 54,
     "metadata": {},
     "output_type": "execute_result"
    }
   ],
   "source": [
    "df_train.columns"
   ]
  },
  {
   "cell_type": "code",
   "execution_count": 55,
   "metadata": {},
   "outputs": [
    {
     "data": {
      "text/plain": [
       "Index(['MSSubClass', 'MSZoning', 'LotFrontage', 'LotArea', 'Street',\n",
       "       'LotShape', 'LandContour', 'Utilities', 'LotConfig', 'LandSlope',\n",
       "       'Neighborhood', 'Condition1', 'Condition2', 'BldgType', 'HouseStyle',\n",
       "       'OverallQual', 'OverallCond', 'YearBuilt', 'YearRemodAdd', 'RoofStyle',\n",
       "       'RoofMatl', 'Exterior1st', 'Exterior2nd', 'MasVnrType', 'MasVnrArea',\n",
       "       'ExterQual', 'ExterCond', 'Foundation', 'BsmtQual', 'BsmtCond',\n",
       "       'BsmtExposure', 'BsmtFinType1', 'BsmtFinSF1', 'BsmtFinType2',\n",
       "       'BsmtFinSF2', 'BsmtUnfSF', 'TotalBsmtSF', 'Heating', 'HeatingQC',\n",
       "       'CentralAir', 'Electrical', '1stFlrSF', '2ndFlrSF', 'LowQualFinSF',\n",
       "       'GrLivArea', 'BsmtFullBath', 'BsmtHalfBath', 'FullBath', 'HalfBath',\n",
       "       'BedroomAbvGr', 'KitchenAbvGr', 'KitchenQual', 'TotRmsAbvGrd',\n",
       "       'Functional', 'Fireplaces', 'GarageType', 'GarageFinish', 'GarageArea',\n",
       "       'GarageQual', 'GarageCond', 'PavedDrive', 'WoodDeckSF', 'OpenPorchSF',\n",
       "       'EnclosedPorch', '3SsnPorch', 'ScreenPorch', 'PoolArea', 'MiscVal',\n",
       "       'SaleType', 'SaleCondition'],\n",
       "      dtype='object')"
      ]
     },
     "execution_count": 55,
     "metadata": {},
     "output_type": "execute_result"
    }
   ],
   "source": [
    "df_test.columns"
   ]
  },
  {
   "cell_type": "code",
   "execution_count": 56,
   "metadata": {},
   "outputs": [
    {
     "data": {
      "text/plain": [
       "MSSubClass         int64\n",
       "MSZoning          object\n",
       "LotFrontage      float64\n",
       "LotArea            int64\n",
       "Street            object\n",
       "                  ...   \n",
       "PoolArea           int64\n",
       "MiscVal            int64\n",
       "SaleType          object\n",
       "SaleCondition     object\n",
       "SalePrice          int64\n",
       "Length: 71, dtype: object"
      ]
     },
     "execution_count": 56,
     "metadata": {},
     "output_type": "execute_result"
    }
   ],
   "source": [
    "df_train.dtypes"
   ]
  },
  {
   "cell_type": "code",
   "execution_count": 57,
   "metadata": {},
   "outputs": [],
   "source": [
    "x=df_train.drop('SalePrice',axis=1)\n",
    "y=df_train['SalePrice']"
   ]
  },
  {
   "cell_type": "code",
   "execution_count": 58,
   "metadata": {},
   "outputs": [
    {
     "data": {
      "text/plain": [
       "Index(['MSZoning', 'Street', 'LotShape', 'LandContour', 'Utilities',\n",
       "       'LotConfig', 'LandSlope', 'Neighborhood', 'Condition1', 'Condition2',\n",
       "       'BldgType', 'HouseStyle', 'RoofStyle', 'RoofMatl', 'Exterior1st',\n",
       "       'Exterior2nd', 'MasVnrType', 'ExterQual', 'ExterCond', 'Foundation',\n",
       "       'BsmtQual', 'BsmtCond', 'BsmtExposure', 'BsmtFinType1', 'BsmtFinType2',\n",
       "       'Heating', 'HeatingQC', 'CentralAir', 'Electrical', 'KitchenQual',\n",
       "       'Functional', 'GarageType', 'GarageFinish', 'GarageQual', 'GarageCond',\n",
       "       'PavedDrive', 'SaleType', 'SaleCondition'],\n",
       "      dtype='object')"
      ]
     },
     "execution_count": 58,
     "metadata": {},
     "output_type": "execute_result"
    }
   ],
   "source": [
    "cat_train= x.select_dtypes(include='object')\n",
    "cat_train.columns"
   ]
  },
  {
   "cell_type": "code",
   "execution_count": 59,
   "metadata": {},
   "outputs": [],
   "source": [
    "x['MSZoning']=le.fit_transform(x['MSZoning'])\n",
    "x['Street']=le.fit_transform(x['Street'])\n",
    "x['LotShape']=le.fit_transform(x['LotShape'])\n",
    "x['LandContour']=le.fit_transform(x['LandContour'])\n",
    "x['Utilities']=le.fit_transform(x['Utilities'])\n",
    "x['LotConfig']=le.fit_transform(x['LotConfig'])\n",
    "x['LandSlope']=le.fit_transform(x['LandSlope'])\n",
    "x['Neighborhood']=le.fit_transform(x['Neighborhood'])\n",
    "x['Condition1']=le.fit_transform(x['Condition1'])\n",
    "x['Condition2']=le.fit_transform(x['Condition2'])\n",
    "x['BldgType']=le.fit_transform(x['BldgType'])\n",
    "x['HouseStyle']=le.fit_transform(x['HouseStyle'])\n",
    "x['RoofStyle']=le.fit_transform(x['RoofStyle'])\n",
    "x['RoofMatl']=le.fit_transform(x['RoofMatl'])\n",
    "x['Exterior1st']=le.fit_transform(x['Exterior1st'])\n",
    "x['Exterior2nd']=le.fit_transform(x['Exterior2nd'])\n",
    "x['MasVnrType']=le.fit_transform(x['MasVnrType'])\n",
    "x['ExterQual']=le.fit_transform(x['ExterQual'])\n",
    "x['ExterCond']=le.fit_transform(x['ExterCond'])\n",
    "x['Foundation']=le.fit_transform(x['Foundation'])\n",
    "x['BsmtQual']=le.fit_transform(x['BsmtQual'])\n",
    "x['BsmtCond']=le.fit_transform(x['BsmtCond'])\n",
    "x['BsmtExposure']=le.fit_transform(x['BsmtExposure'])\n",
    "x['BsmtFinType1']=le.fit_transform(x['BsmtFinType1'])\n",
    "x['BsmtFinType2']=le.fit_transform(x['BsmtFinType2'])\n",
    "x['Heating']=le.fit_transform(x['Heating'])\n",
    "x['HeatingQC']=le.fit_transform(x['HeatingQC'])\n",
    "x['CentralAir']=le.fit_transform(x['CentralAir'])\n",
    "x['Electrical']=le.fit_transform(x['Electrical'])\n",
    "x['KitchenQual']=le.fit_transform(x['KitchenQual'])\n",
    "x['Functional']=le.fit_transform(x['Functional'])\n",
    "x['GarageType']=le.fit_transform(x['GarageType'])\n",
    "x['GarageFinish']=le.fit_transform(x['GarageFinish'])\n",
    "x['GarageQual']=le.fit_transform(x['GarageQual'])\n",
    "x['GarageCond']=le.fit_transform(x['GarageCond'])\n",
    "x['PavedDrive']=le.fit_transform(x['PavedDrive'])\n",
    "x['SaleType']=le.fit_transform(x['SaleType'])\n",
    "x['SaleCondition']=le.fit_transform(x['SaleCondition'])"
   ]
  },
  {
   "cell_type": "code",
   "execution_count": 60,
   "metadata": {},
   "outputs": [],
   "source": [
    "df_test['MSZoning']=le.fit_transform(df_test['MSZoning'])\n",
    "df_test['Street']=le.fit_transform(df_test['Street'])\n",
    "df_test['LotShape']=le.fit_transform(df_test['LotShape'])\n",
    "df_test['LandContour']=le.fit_transform(df_test['LandContour'])\n",
    "df_test['Utilities']=le.fit_transform(df_test['Utilities'])\n",
    "df_test['LotConfig']=le.fit_transform(df_test['LotConfig'])\n",
    "df_test['LandSlope']=le.fit_transform(df_test['LandSlope'])\n",
    "df_test['Neighborhood']=le.fit_transform(df_test['Neighborhood'])\n",
    "df_test['Condition1']=le.fit_transform(df_test['Condition1'])\n",
    "df_test['Condition2']=le.fit_transform(df_test['Condition2'])\n",
    "df_test['BldgType']=le.fit_transform(df_test['BldgType'])\n",
    "df_test['HouseStyle']=le.fit_transform(df_test['HouseStyle'])\n",
    "df_test['RoofStyle']=le.fit_transform(df_test['RoofStyle'])\n",
    "df_test['RoofMatl']=le.fit_transform(df_test['RoofMatl'])\n",
    "df_test['Exterior1st']=le.fit_transform(df_test['Exterior1st'])\n",
    "df_test['Exterior2nd']=le.fit_transform(df_test['Exterior2nd'])\n",
    "df_test['MasVnrType']=le.fit_transform(df_test['MasVnrType'])\n",
    "df_test['ExterQual']=le.fit_transform(df_test['ExterQual'])\n",
    "df_test['ExterCond']=le.fit_transform(df_test['ExterCond'])\n",
    "df_test['Foundation']=le.fit_transform(df_test['Foundation'])\n",
    "df_test['BsmtQual']=le.fit_transform(df_test['BsmtQual'])\n",
    "df_test['BsmtCond']=le.fit_transform(df_test['BsmtCond'])\n",
    "df_test['BsmtExposure']=le.fit_transform(df_test['BsmtExposure'])\n",
    "df_test['BsmtFinType1']=le.fit_transform(df_test['BsmtFinType1'])\n",
    "df_test['BsmtFinType2']=le.fit_transform(df_test['BsmtFinType2'])\n",
    "df_test['Heating']=le.fit_transform(df_test['Heating'])\n",
    "df_test['HeatingQC']=le.fit_transform(df_test['HeatingQC'])\n",
    "df_test['CentralAir']=le.fit_transform(df_test['CentralAir'])\n",
    "df_test['Electrical']=le.fit_transform(df_test['Electrical'])\n",
    "df_test['KitchenQual']=le.fit_transform(df_test['KitchenQual'])\n",
    "df_test['Functional']=le.fit_transform(df_test['Functional'])\n",
    "df_test['GarageType']=le.fit_transform(df_test['GarageType'])\n",
    "df_test['GarageFinish']=le.fit_transform(df_test['GarageFinish'])\n",
    "df_test['GarageQual']=le.fit_transform(df_test['GarageQual'])\n",
    "df_test['GarageCond']=le.fit_transform(df_test['GarageCond'])\n",
    "df_test['PavedDrive']=le.fit_transform(df_test['PavedDrive'])\n",
    "df_test['SaleType']=le.fit_transform(df_test['SaleType'])\n",
    "df_test['SaleCondition']=le.fit_transform(df_test['SaleCondition'])"
   ]
  },
  {
   "cell_type": "code",
   "execution_count": 61,
   "metadata": {},
   "outputs": [
    {
     "data": {
      "text/plain": [
       "MSSubClass       0\n",
       "GrLivArea        0\n",
       "KitchenAbvGr     0\n",
       "BedroomAbvGr     0\n",
       "HalfBath         0\n",
       "FullBath         0\n",
       "BsmtHalfBath     0\n",
       "BsmtFullBath     0\n",
       "LowQualFinSF     0\n",
       "TotRmsAbvGrd     0\n",
       "2ndFlrSF         0\n",
       "1stFlrSF         0\n",
       "Electrical       0\n",
       "CentralAir       0\n",
       "HeatingQC        0\n",
       "Heating          0\n",
       "KitchenQual      0\n",
       "Functional       0\n",
       "MSZoning         0\n",
       "OpenPorchSF      0\n",
       "SaleType         0\n",
       "MiscVal          0\n",
       "PoolArea         0\n",
       "ScreenPorch      0\n",
       "3SsnPorch        0\n",
       "EnclosedPorch    0\n",
       "WoodDeckSF       0\n",
       "Fireplaces       0\n",
       "PavedDrive       0\n",
       "GarageCond       0\n",
       "GarageQual       0\n",
       "GarageArea       0\n",
       "GarageFinish     0\n",
       "GarageType       0\n",
       "TotalBsmtSF      0\n",
       "BsmtUnfSF        0\n",
       "BsmtFinSF2       0\n",
       "LandSlope        0\n",
       "OverallQual      0\n",
       "HouseStyle       0\n",
       "BldgType         0\n",
       "Condition2       0\n",
       "Condition1       0\n",
       "Neighborhood     0\n",
       "LotConfig        0\n",
       "BsmtFinType2     0\n",
       "Utilities        0\n",
       "LandContour      0\n",
       "LotShape         0\n",
       "Street           0\n",
       "dtype: int64"
      ]
     },
     "execution_count": 61,
     "metadata": {},
     "output_type": "execute_result"
    }
   ],
   "source": [
    "df_test.isnull().sum().sort_values(ascending=False).head(50)"
   ]
  },
  {
   "cell_type": "code",
   "execution_count": 62,
   "metadata": {},
   "outputs": [],
   "source": [
    "from sklearn.preprocessing import MinMaxScaler"
   ]
  },
  {
   "cell_type": "code",
   "execution_count": 63,
   "metadata": {},
   "outputs": [],
   "source": [
    "scaler=MinMaxScaler()\n",
    "x=x.values\n",
    "y=y.values\n",
    "df_test=df_test.values"
   ]
  },
  {
   "cell_type": "code",
   "execution_count": 64,
   "metadata": {},
   "outputs": [],
   "source": [
    "X_train=scaler.fit_transform(x)\n",
    "X_test=scaler.transform(df_test)\n"
   ]
  },
  {
   "cell_type": "code",
   "execution_count": 65,
   "metadata": {},
   "outputs": [],
   "source": [
    "from sklearn.linear_model import LinearRegression\n",
    "from sklearn.tree import DecisionTreeRegressor\n",
    "from sklearn.ensemble import RandomForestRegressor\n",
    "\n",
    "from sklearn.metrics import mean_squared_error as mse"
   ]
  },
  {
   "cell_type": "code",
   "execution_count": 66,
   "metadata": {},
   "outputs": [
    {
     "name": "stdout",
     "output_type": "stream",
     "text": [
      "Training Score of RF:  0.9825362356448761\n"
     ]
    }
   ],
   "source": [
    "model_rf=RandomForestRegressor(n_estimators=500)\n",
    "model_rf.fit(x,y)\n",
    "\n",
    "ypred_rf=model_rf.predict(df_test)\n",
    "\n",
    "print('Training Score of RF: ',model_rf.score(x,y))"
   ]
  },
  {
   "cell_type": "code",
   "execution_count": 67,
   "metadata": {},
   "outputs": [
    {
     "name": "stderr",
     "output_type": "stream",
     "text": [
      "c:\\Users\\ZAIDI Mohamed Arysse\\anaconda3\\lib\\site-packages\\sklearn\\tree\\_classes.py:359: FutureWarning: Criterion 'mse' was deprecated in v1.0 and will be removed in version 1.2. Use `criterion='squared_error'` which is equivalent.\n",
      "  warnings.warn(\n"
     ]
    },
    {
     "data": {
      "text/plain": [
       "0.9999969164902857"
      ]
     },
     "execution_count": 67,
     "metadata": {},
     "output_type": "execute_result"
    }
   ],
   "source": [
    "from sklearn.tree import DecisionTreeRegressor\n",
    "model_dt=DecisionTreeRegressor(criterion='mse')\n",
    "model_dt.fit(x,y)\n",
    "ypred_dt=model_dt.predict(df_test)\n",
    "model_dt.score(x,y)"
   ]
  }
 ],
 "metadata": {
  "kernelspec": {
   "display_name": "Python 3.9.12 ('base')",
   "language": "python",
   "name": "python3"
  },
  "language_info": {
   "codemirror_mode": {
    "name": "ipython",
    "version": 3
   },
   "file_extension": ".py",
   "mimetype": "text/x-python",
   "name": "python",
   "nbconvert_exporter": "python",
   "pygments_lexer": "ipython3",
   "version": "3.9.12"
  },
  "orig_nbformat": 4,
  "vscode": {
   "interpreter": {
    "hash": "04a834920b7def6fd20c473cd69d4248d5cd7791bb116f54149a6750c1f73918"
   }
  }
 },
 "nbformat": 4,
 "nbformat_minor": 2
}
